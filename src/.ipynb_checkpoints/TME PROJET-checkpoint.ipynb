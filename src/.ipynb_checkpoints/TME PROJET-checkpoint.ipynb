{
 "cells": [
  {
   "cell_type": "code",
   "execution_count": 26,
   "id": "15bd6083",
   "metadata": {},
   "outputs": [],
   "source": [
    "import numpy as np\n",
    "import pandas as pd\n",
    "import matplotlib.pyplot as plt"
   ]
  },
  {
   "cell_type": "code",
   "execution_count": 41,
   "id": "e8eb1a64",
   "metadata": {},
   "outputs": [
    {
     "data": {
      "text/plain": [
       "array([10])"
      ]
     },
     "execution_count": 41,
     "metadata": {},
     "output_type": "execute_result"
    }
   ],
   "source": [
    "M = np.array([[0,1,1,0,0,0],\n",
    "             [1,0,0,1,1,0],\n",
    "             [1,0,0,1,0,0],\n",
    "             [0,1,1,0,10,0],\n",
    "             [0,1,0,1,0,1],\n",
    "             [0,0,0,0,1,0]])\n",
    "fusion = np.array([0,0,0,0,0,0])\n",
    "\n",
    "P = M/(np.sum(M)/2)\n",
    "\n",
    "M_1d = M.flatten()\n",
    "sommets = np.arange()\n",
    "P = M_1d/(np.sum(M_1d))\n",
    "\n",
    "np.random.choice(M_1d,size=1, p=P)"
   ]
  },
  {
   "cell_type": "code",
   "execution_count": 42,
   "id": "5052d69b",
   "metadata": {},
   "outputs": [
    {
     "name": "stdout",
     "output_type": "stream",
     "text": [
      "[1]\n",
      "[1]\n",
      "[10]\n",
      "[1]\n",
      "[10]\n",
      "[1]\n",
      "[1]\n",
      "[1]\n",
      "[10]\n",
      "[10]\n",
      "[10]\n",
      "[1]\n",
      "[1]\n",
      "[1]\n",
      "[1]\n",
      "[1]\n",
      "[10]\n",
      "[1]\n",
      "[10]\n",
      "[10]\n",
      "[10]\n",
      "[1]\n",
      "[10]\n",
      "[10]\n",
      "[1]\n",
      "[1]\n",
      "[1]\n",
      "[1]\n",
      "[10]\n",
      "[1]\n",
      "[10]\n",
      "[1]\n",
      "[1]\n",
      "[1]\n",
      "[10]\n",
      "[10]\n",
      "[10]\n",
      "[1]\n",
      "[1]\n",
      "[1]\n",
      "[10]\n",
      "[1]\n",
      "[10]\n",
      "[1]\n",
      "[1]\n",
      "[1]\n",
      "[10]\n",
      "[10]\n",
      "[1]\n",
      "[1]\n",
      "[10]\n",
      "[1]\n",
      "[1]\n",
      "[1]\n",
      "[10]\n",
      "[1]\n",
      "[10]\n",
      "[1]\n",
      "[1]\n",
      "[1]\n",
      "[10]\n",
      "[10]\n",
      "[10]\n",
      "[10]\n",
      "[1]\n",
      "[10]\n",
      "[1]\n",
      "[10]\n",
      "[1]\n",
      "[1]\n",
      "[1]\n",
      "[1]\n",
      "[1]\n",
      "[1]\n",
      "[10]\n",
      "[10]\n",
      "[1]\n",
      "[10]\n",
      "[1]\n",
      "[10]\n",
      "[1]\n",
      "[10]\n",
      "[10]\n",
      "[1]\n",
      "[1]\n",
      "[1]\n",
      "[1]\n",
      "[1]\n",
      "[10]\n",
      "[10]\n",
      "[1]\n",
      "[1]\n",
      "[1]\n",
      "[1]\n",
      "[10]\n",
      "[10]\n",
      "[1]\n",
      "[1]\n",
      "[1]\n",
      "[1]\n"
     ]
    }
   ],
   "source": [
    "for i in range(100):\n",
    "    print(np.random.choice(M_1d,size=1, p=P))"
   ]
  },
  {
   "cell_type": "code",
   "execution_count": null,
   "id": "cd493919",
   "metadata": {},
   "outputs": [],
   "source": [
    "def pick_edge(M, P):\n",
    "    # Picks an edge e from graph M with a probability P\n",
    "    "
   ]
  },
  {
   "cell_type": "code",
   "execution_count": 15,
   "id": "c81cac63",
   "metadata": {},
   "outputs": [
    {
     "name": "stdout",
     "output_type": "stream",
     "text": [
      "[[0.95326714 0.29517094 0.1527761  0.55236323 0.48922544 0.608497\n",
      "  0.04582747 0.98590593 0.76894684 0.15217468]\n",
      " [0.95560051 0.98526262 0.42656365 0.73448    0.13555184 0.89144646\n",
      "  0.4203386  0.38605932 0.353013   0.65408223]\n",
      " [0.57409501 0.53513177 0.03437798 0.53069556 0.6534067  0.10892506\n",
      "  0.32796395 0.83854348 0.35269145 0.26365044]\n",
      " [0.17251769 0.56298526 0.2821338  0.32633858 0.68637214 0.30912894\n",
      "  0.64055995 0.39163427 0.68979584 0.51675271]\n",
      " [0.74688096 0.91297771 0.60293418 0.75864475 0.66663942 0.26783239\n",
      "  0.00236877 0.76054364 0.53058842 0.16883954]\n",
      " [0.16014049 0.17814854 0.69256448 0.11645306 0.46030555 0.73343252\n",
      "  0.13208177 0.65601944 0.87491908 0.75854443]\n",
      " [0.52515406 0.10865161 0.31634875 0.97998621 0.24653985 0.12042254\n",
      "  0.91183099 0.93084151 0.52140122 0.98420847]\n",
      " [0.06371588 0.63503743 0.67507727 0.95361963 0.05292996 0.45616549\n",
      "  0.28725081 0.38380109 0.60732165 0.13108612]\n",
      " [0.71309998 0.87027847 0.90121558 0.96699606 0.36839103 0.86652936\n",
      "  0.73098494 0.71937523 0.28512221 0.87226901]\n",
      " [0.16565943 0.79029859 0.83446672 0.29585188 0.85961937 0.55246335\n",
      "  0.5695065  0.9517893  0.75906659 0.59001968]]\n"
     ]
    },
    {
     "data": {
      "text/plain": [
       "array([[0.95326714, 0.98590593],\n",
       "       [0.95560051, 0.98526262],\n",
       "       [0.6534067 , 0.83854348],\n",
       "       [0.68637214, 0.68979584],\n",
       "       [0.76054364, 0.91297771],\n",
       "       [0.75854443, 0.87491908],\n",
       "       [0.97998621, 0.98420847],\n",
       "       [0.67507727, 0.95361963],\n",
       "       [0.90121558, 0.96699606],\n",
       "       [0.85961937, 0.9517893 ]])"
      ]
     },
     "execution_count": 15,
     "metadata": {},
     "output_type": "execute_result"
    }
   ],
   "source": [
    "q = np.random.random((10,10))\n",
    "print(q)\n",
    "np.sort(q,axis=1)[:,-2:]"
   ]
  },
  {
   "cell_type": "code",
   "execution_count": 16,
   "id": "b69b18ab",
   "metadata": {},
   "outputs": [
    {
     "data": {
      "text/plain": [
       "array([[0.49398662, 0.97817391],\n",
       "       [0.42404521, 0.59840277],\n",
       "       [0.09837273, 0.20095082],\n",
       "       [0.93822399, 0.48662803],\n",
       "       [0.63301057, 0.74551808],\n",
       "       [0.49032916, 0.86282928],\n",
       "       [0.28022496, 0.29698011],\n",
       "       [0.48155322, 0.3033339 ],\n",
       "       [0.68007175, 0.61286921],\n",
       "       [0.23545843, 0.55871078]])"
      ]
     },
     "execution_count": 16,
     "metadata": {},
     "output_type": "execute_result"
    }
   ],
   "source": [
    "q = np.random.random((10,10))\n",
    "\n",
    "def choice(row, n, replace=False):\n",
    "    return np.random.choice(row, size=n, p=row/row.sum(), replace=replace)\n",
    "\n",
    "np.apply_along_axis(func1d=choice, axis=1, arr=q, n=2)"
   ]
  },
  {
   "cell_type": "code",
   "execution_count": null,
   "id": "ed0cbd6e",
   "metadata": {},
   "outputs": [],
   "source": [
    "# Rajouter une ligne de fustion\n",
    "# Tirage de l'arête aléatoire\n",
    "# Fusion en temps lineaire et selectione en temps lineaire\n",
    "\n",
    "\n",
    "# Sélection aléatoire d'une arête parmi m arêtes"
   ]
  }
 ],
 "metadata": {
  "kernelspec": {
   "display_name": "Python 3 (ipykernel)",
   "language": "python",
   "name": "python3"
  },
  "language_info": {
   "codemirror_mode": {
    "name": "ipython",
    "version": 3
   },
   "file_extension": ".py",
   "mimetype": "text/x-python",
   "name": "python",
   "nbconvert_exporter": "python",
   "pygments_lexer": "ipython3",
   "version": "3.10.0"
  }
 },
 "nbformat": 4,
 "nbformat_minor": 5
}
