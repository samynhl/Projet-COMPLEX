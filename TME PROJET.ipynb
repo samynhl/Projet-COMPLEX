{
 "cells": [
  {
   "cell_type": "code",
   "execution_count": 1,
   "id": "15bd6083",
   "metadata": {},
   "outputs": [],
   "source": [
    "import numpy as np\n",
    "import pandas as pd\n",
    "import matplotlib.pyplot as plt\n",
    "import random, copy\n",
    "import time\n",
    "from scipy.interpolate import make_interp_spline"
   ]
  },
  {
   "cell_type": "code",
   "execution_count": 2,
   "id": "a9d72e2e",
   "metadata": {},
   "outputs": [],
   "source": [
    "# Matrices d'adjacence\n",
    "# Serviront pour les tests\n",
    "\n",
    "M = np.array([[0,1,1,0,0,0],\n",
    "              [1,0,0,1,1,0],\n",
    "              [1,0,0,1,0,0],\n",
    "              [0,1,1,0,1,0],\n",
    "              [0,1,0,1,0,1],\n",
    "              [0,0,0,0,1,0]])\n",
    "\n",
    "M2 = np.array([[0,1,1,1,0,0,0,0],\n",
    "               [1,0,1,1,1,0,0,0],\n",
    "               [1,1,0,1,1,0,0,0],\n",
    "               [1,1,1,0,0,0,0,0],\n",
    "               [0,1,1,0,0,1,1,1],\n",
    "               [0,0,0,0,1,0,1,1],\n",
    "               [0,0,0,0,1,1,0,1],\n",
    "               [0,0,0,0,1,1,1,0]])"
   ]
  },
  {
   "cell_type": "markdown",
   "id": "3df6a24e",
   "metadata": {},
   "source": [
    "### 1.a"
   ]
  },
  {
   "cell_type": "markdown",
   "id": "474e82a6",
   "metadata": {},
   "source": [
    "- Le multi graphe G est représenté par une matrice d'adjacence.\n",
    "- Pour réaliser l'opération de contraction d'une arête (i,j), on réalise les traitements suivants\n",
    "sur la matrice d'adjacence représentant le graphe G:<br>\n",
    "    - Ajouter à la ligne et colonne du sommet i, la ligne et colonne du sommmet j. <br>\n",
    "    - Supprimer la ligne et la colonne correspondants au sommet j (car a été fusionné avec le sommet i pour construire un nouvel ensemble (La suppresion se fait en remplaçant la ligne et la colonne par -1)."
   ]
  },
  {
   "cell_type": "code",
   "execution_count": 3,
   "id": "15d13cfc",
   "metadata": {},
   "outputs": [],
   "source": [
    "def contract(A,i,j):\n",
    "    \"\"\"\n",
    "    Realise the contraction in the graph M represented by its adjancency matrix\n",
    "    \"\"\"\n",
    "    li = A[i,:]\n",
    "    lj = A[j,:]\n",
    "    ci = A[:,i]\n",
    "    cj = A[:,j]\n",
    "\n",
    "    A[i,:] = li + lj\n",
    "    A[:,i] = ci + cj\n",
    "\n",
    "    A[i,i] = 0\n",
    "\n",
    "    A[j,:] = -1\n",
    "    A[:,j] = -1\n",
    "    \n",
    "    return A"
   ]
  },
  {
   "cell_type": "markdown",
   "id": "41ff31bf",
   "metadata": {},
   "source": [
    "### Complexité :\n",
    "L'opération de contraction présentée ci-dessus se fait en temps constant O(n).\n",
    "\n",
    "En effet, il s'agit juste de remplacer deux lignes et deux colonnes connus de la matrice d'adjacence M par des valeurs, donc il suffit de parcourir toute la ligne/colonne et d'assigner les nouvelles valeurs, ce qui se fait en temps O(n)."
   ]
  },
  {
   "cell_type": "markdown",
   "id": "d781793e",
   "metadata": {},
   "source": [
    "### 1.b"
   ]
  },
  {
   "cell_type": "markdown",
   "id": "6fc02071",
   "metadata": {},
   "source": [
    "Module de création de graphe (par génération de matrices d'adjacences), servira pour la partie experimentale et analyse de la complexité."
   ]
  },
  {
   "cell_type": "code",
   "execution_count": 4,
   "id": "38f1dd21",
   "metadata": {},
   "outputs": [],
   "source": [
    "def create_graph(n_vertex,ty = \"random\"):\n",
    "    shape = (n_vertex,n_vertex)\n",
    "    if ty==\"random\":\n",
    "        # how to create a random graph\n",
    "        # add an edge with probability p\n",
    "        p = [0.2,0.8] # To be verified\n",
    "        M = np.zeros(shape)\n",
    "        for i in range(n_vertex):\n",
    "            for j in range(n_vertex):\n",
    "                e = np.random.choice([0,1],1,[p])\n",
    "                M[i,j] = e\n",
    "                M[j,i] = e\n",
    "        np.fill_diagonal(M,0)\n",
    "    elif ty==\"complete\":\n",
    "        M = np.ones(shape)\n",
    "        np.fill_diagonal(M,0)\n",
    "    elif ty==\"biparti\":\n",
    "        n = n_vertex//2\n",
    "        A = np.concatenate((np.zeros((n,n)), np.ones((n,n))), axis=0)\n",
    "        B = np.concatenate((np.ones((n,n)), np.zeros((n,n))), axis=0)\n",
    "        M = np.concatenate((A,B), axis=1)\n",
    "        \n",
    "    elif ty==\"cyclique\":\n",
    "        M = np.zeros(shape)\n",
    "        for i in range(n_vertex-1):\n",
    "            M[i,i+1] = 1\n",
    "        M[0,n_vertex-1] = 1\n",
    "        for i in range(n_vertex):\n",
    "            for j in range(n_vertex):\n",
    "                M[j,i] = M[i,j]\n",
    "    \n",
    "    else:\n",
    "        print('enter a valid graph type')\n",
    "        return\n",
    "    \n",
    "    return M.astype(int)"
   ]
  },
  {
   "cell_type": "code",
   "execution_count": 5,
   "id": "40fc129a",
   "metadata": {},
   "outputs": [
    {
     "data": {
      "text/plain": [
       "array([[0, 0, 0, 0, 1, 0, 1, 1],\n",
       "       [0, 0, 0, 1, 1, 0, 0, 1],\n",
       "       [0, 0, 0, 0, 1, 0, 1, 0],\n",
       "       [0, 1, 0, 0, 0, 0, 1, 0],\n",
       "       [1, 1, 1, 0, 0, 0, 0, 1],\n",
       "       [0, 0, 0, 0, 0, 0, 1, 0],\n",
       "       [1, 0, 1, 1, 0, 1, 0, 0],\n",
       "       [1, 1, 0, 0, 1, 0, 0, 0]])"
      ]
     },
     "execution_count": 5,
     "metadata": {},
     "output_type": "execute_result"
    }
   ],
   "source": [
    "G = create_graph(8,ty=\"random\")\n",
    "G"
   ]
  },
  {
   "cell_type": "code",
   "execution_count": 6,
   "id": "9d59033b",
   "metadata": {},
   "outputs": [
    {
     "data": {
      "text/plain": [
       "array([[0, 0, 1, 0, 1, 0, 1, 0],\n",
       "       [0, 0, 1, 1, 1, 0, 1, 1],\n",
       "       [1, 1, 0, 1, 0, 1, 0, 1],\n",
       "       [0, 1, 1, 0, 0, 1, 0, 1],\n",
       "       [1, 1, 0, 0, 0, 1, 0, 1],\n",
       "       [0, 0, 1, 1, 1, 0, 0, 1],\n",
       "       [1, 1, 0, 0, 0, 0, 0, 1],\n",
       "       [0, 1, 1, 1, 1, 1, 1, 0]])"
      ]
     },
     "execution_count": 6,
     "metadata": {},
     "output_type": "execute_result"
    }
   ],
   "source": [
    "G_random = create_graph(8,ty=\"random\")\n",
    "G_random"
   ]
  },
  {
   "cell_type": "code",
   "execution_count": 7,
   "id": "424b35ba",
   "metadata": {},
   "outputs": [
    {
     "data": {
      "text/plain": [
       "array([[0, 1, 1, 1, 1, 1, 1, 1],\n",
       "       [1, 0, 1, 1, 1, 1, 1, 1],\n",
       "       [1, 1, 0, 1, 1, 1, 1, 1],\n",
       "       [1, 1, 1, 0, 1, 1, 1, 1],\n",
       "       [1, 1, 1, 1, 0, 1, 1, 1],\n",
       "       [1, 1, 1, 1, 1, 0, 1, 1],\n",
       "       [1, 1, 1, 1, 1, 1, 0, 1],\n",
       "       [1, 1, 1, 1, 1, 1, 1, 0]])"
      ]
     },
     "execution_count": 7,
     "metadata": {},
     "output_type": "execute_result"
    }
   ],
   "source": [
    "G_complete = create_graph(8,ty=\"complete\")\n",
    "G_complete"
   ]
  },
  {
   "cell_type": "code",
   "execution_count": 8,
   "id": "7385e147",
   "metadata": {},
   "outputs": [
    {
     "data": {
      "text/plain": [
       "array([[0, 0, 0, 0, 1, 1, 1, 1],\n",
       "       [0, 0, 0, 0, 1, 1, 1, 1],\n",
       "       [0, 0, 0, 0, 1, 1, 1, 1],\n",
       "       [0, 0, 0, 0, 1, 1, 1, 1],\n",
       "       [1, 1, 1, 1, 0, 0, 0, 0],\n",
       "       [1, 1, 1, 1, 0, 0, 0, 0],\n",
       "       [1, 1, 1, 1, 0, 0, 0, 0],\n",
       "       [1, 1, 1, 1, 0, 0, 0, 0]])"
      ]
     },
     "execution_count": 8,
     "metadata": {},
     "output_type": "execute_result"
    }
   ],
   "source": [
    "G_biparti = create_graph(8,ty=\"biparti\")\n",
    "G_biparti"
   ]
  },
  {
   "cell_type": "code",
   "execution_count": 9,
   "id": "b2a6c5dc",
   "metadata": {},
   "outputs": [
    {
     "data": {
      "text/plain": [
       "array([[0, 1, 0, 0, 0, 0, 0, 1],\n",
       "       [1, 0, 1, 0, 0, 0, 0, 0],\n",
       "       [0, 1, 0, 1, 0, 0, 0, 0],\n",
       "       [0, 0, 1, 0, 1, 0, 0, 0],\n",
       "       [0, 0, 0, 1, 0, 1, 0, 0],\n",
       "       [0, 0, 0, 0, 1, 0, 1, 0],\n",
       "       [0, 0, 0, 0, 0, 1, 0, 1],\n",
       "       [1, 0, 0, 0, 0, 0, 1, 0]])"
      ]
     },
     "execution_count": 9,
     "metadata": {},
     "output_type": "execute_result"
    }
   ],
   "source": [
    "G_cyclique = create_graph(8,ty=\"cyclique\")\n",
    "G_cyclique"
   ]
  },
  {
   "cell_type": "markdown",
   "id": "7d299ac8",
   "metadata": {},
   "source": [
    "### 1.c"
   ]
  },
  {
   "cell_type": "markdown",
   "id": "8941a2bc",
   "metadata": {},
   "source": [
    "le graphe G est possiblement devenu un multi-graphe avec plusieurs arêtes entre deux sommets.\n",
    "Dans notre analyse théorique de la complexité de l'algorithme de Karger, nous avons supposée\n",
    "que l'arêtes e de l'opération de sélection aléeatoire dans la boucle tant que est\n",
    "tirée uniformement aléatoirement parmi toutes les arêtes possibles. \n",
    "\n",
    "Pour effectuer ce tirage aléatoire lorsque le multi-graphe G est représenté par une matrice d'adjacence, on réalise les étapes suivantes :\n",
    "\n",
    "Etant donnée une liste somme_ligne de tailles nombre de sommets dans le graphe G, et contenant dans chaque case le nombre de sommmets par ligne dans la matrice d'adjacence :\n",
    "\n",
    "Exemple :\n",
    "\n",
    "Pour la matrice  $\\begin{bmatrix}\n",
    "0 & 1 & 1\\\\ \n",
    "1 & 0 & 1\\\\ \n",
    "1 & 0 & 0\n",
    "\\end{bmatrix}$ on retrouve la liste : $\\begin{bmatrix}\n",
    "2 & 2 & 1\n",
    "\\end{bmatrix}$\n",
    "\n",
    "Donc, pour choisir aléatoirement selon une loi uniforme une arête parmi toutes les arêtes du graphe, on tire un nombre aléatoire entre 1 et le nombre d'arêtes du graphe G (qui n'est rien d'autre que la somme des éléments de la liste sommme_liste).\n",
    "\n",
    "Soit a le numéro de l'arête qu'on a tiré précédemment, en utilisant la somme cummulée des éléments de la liste somme_ligne, on peut reperer la ligne ou se trouve cette arête. Cette étape se réalise en temps linéaire O(n) dans le pire des cas.\n",
    "\n",
    "De même pour la colonne, on fait la somme cummulé et on retrouve le numéro de colonne. Cette étape se réalise également en temps linéaire O(n) dans le pire des cas.\n",
    "\n",
    "A la fin de cette procédure, on retourne une l'indice de l'arête (i,j) tiré aléatoirement du graphe G en temps linéaire.\n"
   ]
  },
  {
   "cell_type": "code",
   "execution_count": 10,
   "id": "56c0bfad",
   "metadata": {},
   "outputs": [],
   "source": [
    "# Implémentation de la fonction de tirage aléatoire d'arête\n",
    "# Random choice\n",
    "def arrete_choice(M, sum_lines) :\n",
    "    \"\"\"\n",
    "    Chooses a random edge from the multi graph G\n",
    "    represented by its adjacency matrix\n",
    "        M : Adjacency matrix\n",
    "        somme_ligne : list containing number of edges per line in M\n",
    "    returns :\n",
    "        M[i,j],i,j\n",
    "    \"\"\"\n",
    "    # Pick up up a random number of edge\n",
    "    nb_arrete = np.sum(sum_lines)\n",
    "    random_arrete = np.random.randint(nb_arrete)\n",
    "    \n",
    "    # Find in linear time the line index of that edge\n",
    "    cumul = 0\n",
    "    for i in range(len(sum_lines)) :\n",
    "        cumul += sum_lines[i]\n",
    "        if cumul > random_arrete :\n",
    "            break\n",
    "    \n",
    "    # Find in linear time the column index of that edge\n",
    "    j = random_arrete - (cumul - sum_lines[i])\n",
    "    cumul = 0\n",
    "    for k in range(M.shape[1]) :\n",
    "        cumul += M[i,k] if M[i,k]>0 else 0\n",
    "        if cumul > j :\n",
    "            break\n",
    "\n",
    "    return M[i,k],i,k"
   ]
  },
  {
   "cell_type": "markdown",
   "id": "020be85f",
   "metadata": {},
   "source": [
    "### 1.d"
   ]
  },
  {
   "cell_type": "code",
   "execution_count": 11,
   "id": "d92c91ac",
   "metadata": {},
   "outputs": [],
   "source": [
    "def Karger(M, verbose= False, len_cut = True) :\n",
    "    # Show the resulting list\n",
    "    def print_fusion(fusion):\n",
    "        for i in range(len(fusion)):\n",
    "            if len(fusion[i])>0:\n",
    "                print(fusion[i])\n",
    "    \n",
    "    # Init\n",
    "    A = M.copy()\n",
    "    fusion = [[i] for i in range(A.shape[0])]\n",
    "    \n",
    "    \n",
    "    sum_lines = np.sum(A,axis=1)\n",
    "    nb_vertex = A.shape[0]\n",
    "    \n",
    "    if verbose: \n",
    "        print(\"---\")\n",
    "        print(\"DEBUG\")\n",
    "        print(\"---\")\n",
    "        print(A)\n",
    "        print(sum_lines)\n",
    "    # While the number of vertex is higher than 2\n",
    "    while nb_vertex > 2 :\n",
    "        # An inner loop to avoid choosing an edge that has\n",
    "        # a negative value in the adjacency matrix\n",
    "        # This is taking a lot of time when the matrix is high dimensional\n",
    "        while True : \n",
    "            val,i,j = arrete_choice(A, sum_lines)\n",
    "            # print(val, i,j)\n",
    "            if val>0:\n",
    "                break\n",
    "        # realises a contraction on the edge (i,j)\n",
    "        A = contract(A,i,j)\n",
    "        \n",
    "        ## Update of the data structures\n",
    "        \n",
    "        # Append the merged vertex\n",
    "        for e in fusion[j]:\n",
    "            fusion[i].append(e)\n",
    "        fusion[j] = []\n",
    "        \n",
    "        # Update the sum_lines list\n",
    "        #sum_lines[i] += sum_lines[j] - val\n",
    "        sum_lines[i] += sum_lines[j]\n",
    "        sum_lines[i] -= 2*val\n",
    "        sum_lines[j] = 0\n",
    "        # We have merged two vertex\n",
    "        nb_vertex-=1\n",
    "        # Log\n",
    "        if verbose:\n",
    "            print(i,j)\n",
    "            print(A)\n",
    "            print(\"sommets: \",nb_vertex)\n",
    "            print(\"somme ligne :\", sum_lines)\n",
    "            \n",
    "    if verbose :\n",
    "        print_fusion(fusion)\n",
    "    \n",
    "    S = []\n",
    "    for i in range(len(fusion)):\n",
    "        if len(fusion[i])>0:\n",
    "            S.append(fusion[i])\n",
    "    \n",
    "    coupure = A[A>0][0]\n",
    "\n",
    "    \n",
    "    if len_cut:\n",
    "        return S[0], coupure\n",
    "    return S[0]\n"
   ]
  },
  {
   "cell_type": "code",
   "execution_count": 12,
   "id": "6ef8cedd",
   "metadata": {},
   "outputs": [
    {
     "name": "stdout",
     "output_type": "stream",
     "text": [
      "S1 : [0, 2]\n",
      "The cut returned by Karger Algorithm : 2\n"
     ]
    }
   ],
   "source": [
    "S, cut = Karger(M)\n",
    "print(\"S1 :\", S)\n",
    "print(\"The cut returned by Karger Algorithm :\", cut)"
   ]
  },
  {
   "cell_type": "code",
   "execution_count": 13,
   "id": "98a3ff97",
   "metadata": {},
   "outputs": [
    {
     "name": "stdout",
     "output_type": "stream",
     "text": [
      "S1 : [2]\n",
      "The cut returned by Karger Algorithm : 7\n"
     ]
    }
   ],
   "source": [
    "S, cut = Karger(G_complete)\n",
    "print(\"S1 :\", S)\n",
    "print(\"The cut returned by Karger Algorithm :\", cut)"
   ]
  },
  {
   "cell_type": "code",
   "execution_count": 14,
   "id": "382daf01",
   "metadata": {},
   "outputs": [
    {
     "name": "stdout",
     "output_type": "stream",
     "text": [
      "S1 : [0, 6, 2, 4, 1, 7]\n",
      "The cut returned by Karger Algorithm : 6\n"
     ]
    }
   ],
   "source": [
    "S, cut = Karger(G_biparti)\n",
    "print(\"S1 :\", S)\n",
    "print(\"The cut returned by Karger Algorithm :\", cut)"
   ]
  },
  {
   "cell_type": "code",
   "execution_count": 15,
   "id": "0f347ea6",
   "metadata": {},
   "outputs": [
    {
     "name": "stdout",
     "output_type": "stream",
     "text": [
      "S1 : [2, 6, 3, 4, 7, 1, 0]\n",
      "The cut returned by Karger Algorithm : 1\n"
     ]
    }
   ],
   "source": [
    "S, cut = Karger(G)\n",
    "print(\"S1 :\", S)\n",
    "print(\"The cut returned by Karger Algorithm :\", cut)"
   ]
  },
  {
   "cell_type": "code",
   "execution_count": 16,
   "id": "6a69cda6",
   "metadata": {},
   "outputs": [
    {
     "name": "stdout",
     "output_type": "stream",
     "text": [
      "S1 : [1, 2, 3]\n",
      "The cut returned by Karger Algorithm : 2\n"
     ]
    }
   ],
   "source": [
    "S, cut = Karger(G_cyclique)\n",
    "print(\"S1 :\", S)\n",
    "print(\"The cut returned by Karger Algorithm :\", cut)"
   ]
  },
  {
   "cell_type": "markdown",
   "id": "fff6f04e",
   "metadata": {},
   "source": [
    "### Complexité:\n",
    "La complexité théorique de l'algorithme de Karger vue en cours est de l'ordre de O(n²) pour une représentation par matrice d'adjacence."
   ]
  },
  {
   "cell_type": "markdown",
   "id": "17ba17e6",
   "metadata": {},
   "source": [
    "---"
   ]
  },
  {
   "cell_type": "code",
   "execution_count": 58,
   "id": "8f34e8d9",
   "metadata": {},
   "outputs": [],
   "source": [
    "import numpy as np\n",
    "import matplotlib.pyplot as plt\n",
    "from matplotlib.ticker import NullFormatter, FixedLocator\n",
    "\n",
    "def scale_applying(x,y):\n",
    "    # Fixing random state for reproducibility\n",
    "    np.random.seed(19680801)\n",
    "\n",
    "    # plot with various axes scales\n",
    "    fig, axs = plt.subplots(3, 2, figsize=(6, 8),\n",
    "                            constrained_layout=True)\n",
    "\n",
    "    # linear\n",
    "    ax = axs[0, 0]\n",
    "    ax.plot(x, y)\n",
    "    ax.set_yscale('linear')\n",
    "    ax.set_title('linear')\n",
    "    ax.grid(True)\n",
    "\n",
    "\n",
    "    # log\n",
    "    ax = axs[0, 1]\n",
    "    ax.plot(x, y)\n",
    "    ax.set_yscale('log')\n",
    "    ax.set_title('log')\n",
    "    ax.grid(True)\n",
    "\n",
    "\n",
    "    # symmetric log\n",
    "    ax = axs[1, 1]\n",
    "    ax.plot(x, y - y.mean())\n",
    "    ax.set_yscale('symlog', linthresh=0.02)\n",
    "    ax.set_title('symlog')\n",
    "    ax.grid(True)\n",
    "\n",
    "    # logit\n",
    "    ax = axs[1, 0]\n",
    "    ax.plot(x, y)\n",
    "    ax.set_yscale('logit')\n",
    "    ax.set_title('logit')\n",
    "    ax.grid(True)\n",
    "\n",
    "\n",
    "    # Function x**(1/2)\n",
    "    def forward(x):\n",
    "        return x**(1/2)\n",
    "\n",
    "\n",
    "    def inverse(x):\n",
    "        return x**2\n",
    "\n",
    "\n",
    "    ax = axs[2, 0]\n",
    "    ax.plot(x, y)\n",
    "    ax.set_yscale('function', functions=(forward, inverse))\n",
    "    ax.set_title('function: $x^{1/2}$')\n",
    "    ax.grid(True)\n",
    "    ax.yaxis.set_major_locator(FixedLocator(np.arange(0, 1, 0.2)**2))\n",
    "    ax.yaxis.set_major_locator(FixedLocator(np.arange(0, 1, 0.2)))\n",
    "\n",
    "\n",
    "    # Function Mercator transform\n",
    "    def forward(a):\n",
    "        a = np.deg2rad(a)\n",
    "        return np.rad2deg(np.log(np.abs(np.tan(a) + 1.0 / np.cos(a))))\n",
    "\n",
    "\n",
    "    def inverse(a):\n",
    "        a = np.deg2rad(a)\n",
    "        return np.rad2deg(np.arctan(np.sinh(a)))\n",
    "\n",
    "    ax = axs[2, 1]\n",
    "\n",
    "    t = np.arange(0, 170.0, 0.1)\n",
    "    s = t / 2.\n",
    "\n",
    "    ax.plot(t, s, '-', lw=2)\n",
    "\n",
    "    ax.set_yscale('function', functions=(forward, inverse))\n",
    "    ax.set_title('function: Mercator')\n",
    "    ax.grid(True)\n",
    "    ax.set_xlim([0, 180])\n",
    "    ax.yaxis.set_minor_formatter(NullFormatter())\n",
    "    ax.yaxis.set_major_locator(FixedLocator(np.arange(0, 90, 10)))\n",
    "\n",
    "    plt.show()"
   ]
  },
  {
   "cell_type": "markdown",
   "id": "5493bf18",
   "metadata": {},
   "source": [
    "### Analyse de la complexité de l'algorithme de Karger implémenté en utilisant une représentation par matrice d'adjacence"
   ]
  },
  {
   "cell_type": "markdown",
   "id": "12ce8745",
   "metadata": {},
   "source": [
    "#### Schéma expérimental:\n",
    "- Génération aléatoire d'exemple de taille différente\n",
    "- Exécution de l'algorithme de Karger sur les instances générés\n",
    "- Evaluation du temps d'exécution obtenu"
   ]
  },
  {
   "cell_type": "code",
   "execution_count": 60,
   "id": "60226686",
   "metadata": {},
   "outputs": [
    {
     "data": {
      "image/png": "[encoded data removed]",
      "text/plain": [
       "<Figure size 432x288 with 1 Axes>"
      ]
     },
     "metadata": {
      "needs_background": "light"
     },
     "output_type": "display_data"
    }
   ],
   "source": [
    "# Cas de graphe complet à n sommets\n",
    "\n",
    "exec_times = []\n",
    "for n in range(4, 120, 3):\n",
    "    t = 0\n",
    "    for it in range(400):\n",
    "        G = create_graph(n, ty=\"complete\")\n",
    "        tic = time.time()\n",
    "        _,_ = Karger(G)\n",
    "        tac = time.time()\n",
    "        t+= (tac-tic)\n",
    "    exec_times.append(t/n)\n",
    "\n",
    "# Plot the execution time\n",
    "x_c = np.arange(5,120,3)\n",
    "y_c = np.array(exec_times)\n",
    "\n",
    "plt.plot(x_c,y_c)\n",
    "# Add titles and labels\n",
    "plt.title('Execution time for Karger min cut algorithm')\n",
    "plt.xlabel('vertices number')\n",
    "plt.ylabel('Time')\n",
    "\n",
    "# Show the figure\n",
    "plt.show()"
   ]
  },
  {
   "cell_type": "code",
   "execution_count": 61,
   "id": "72e6d2e4",
   "metadata": {},
   "outputs": [
    {
     "data": {
      "image/png": "[encoded data removed]",
      "text/plain": [
       "<Figure size 432x576 with 6 Axes>"
      ]
     },
     "metadata": {
      "needs_background": "light"
     },
     "output_type": "display_data"
    }
   ],
   "source": [
    "scale_applying(x_c,y_c)"
   ]
  },
  {
   "cell_type": "code",
   "execution_count": 62,
   "id": "82f12730",
   "metadata": {},
   "outputs": [
    {
     "data": {
      "image/png": "[encoded data removed]",
      "text/plain": [
       "<Figure size 432x288 with 1 Axes>"
      ]
     },
     "metadata": {
      "needs_background": "light"
     },
     "output_type": "display_data"
    }
   ],
   "source": [
    "exec_times = []\n",
    "for n in range(4, 120, 2):\n",
    "    t = 0\n",
    "    for it in range(100):\n",
    "        G = create_graph(n, ty=\"biparti\")\n",
    "        tic = time.time()\n",
    "        _,_ = Karger(G)\n",
    "        tac = time.time()\n",
    "        t+= (tac-tic)\n",
    "    exec_times.append(t/n)\n",
    "    \n",
    "\n",
    "# Plotting the execution time\n",
    "x_b = np.arange(4, 120, 2)\n",
    "y_b = np.array(exec_times)\n",
    "\n",
    "plt.plot(x_b,y_b, \"r\")\n",
    "\n",
    "# Add titles and labels\n",
    "plt.title('Execution time for Karger min cut algorithm')\n",
    "plt.xlabel('vertices number')\n",
    "plt.ylabel('Time')\n",
    "\n",
    "# Show the figure\n",
    "plt.show()"
   ]
  },
  {
   "cell_type": "code",
   "execution_count": 63,
   "id": "2b104d7e",
   "metadata": {},
   "outputs": [
    {
     "data": {
      "image/png": "[encoded data removed]",
      "text/plain": [
       "<Figure size 432x576 with 6 Axes>"
      ]
     },
     "metadata": {
      "needs_background": "light"
     },
     "output_type": "display_data"
    }
   ],
   "source": [
    "scale_applying(x_b,y_b)"
   ]
  },
  {
   "cell_type": "markdown",
   "id": "d85713c1",
   "metadata": {},
   "source": [
    "### Analyse de la complexité expérimentale obtenu:\n",
    "On remarque sur les différents graphe obtenus que le temps d'exécution de l'algorithme de Karger pour les graphes représentés par une matrice d'adjacence est de l'ordre de O(n²) ie quadratique, ce qui confirme la complexité théorique annoncée dans le cours."
   ]
  },
  {
   "cell_type": "markdown",
   "id": "d101bf52",
   "metadata": {},
   "source": [
    "### 1.e"
   ]
  },
  {
   "cell_type": "markdown",
   "id": "1987a87b",
   "metadata": {},
   "source": [
    "La deuxième structure de données pour laquelle nous avons opté est la représentation par liste d'adjacence."
   ]
  },
  {
   "cell_type": "code",
   "execution_count": 68,
   "id": "7212b436",
   "metadata": {},
   "outputs": [],
   "source": [
    "G = {1:[2, 3, 4, 7],\n",
    "     2:[1, 3, 4],\n",
    "     3:[1, 2, 4],\n",
    "     4:[1, 2, 3, 5],\n",
    "     5:[4, 6, 7, 8],\n",
    "     6:[5, 7, 8],\n",
    "     7:[1, 5, 6, 8],\n",
    "     8:[5, 6, 7]\n",
    "     }"
   ]
  },
  {
   "cell_type": "code",
   "execution_count": 69,
   "id": "3c757ab6",
   "metadata": {},
   "outputs": [
    {
     "name": "stdout",
     "output_type": "stream",
     "text": [
      "Running Karger one time:  ([8, 5, 6, 2, 7, 1, 3], 4)\n"
     ]
    }
   ],
   "source": [
    "#input can be any adjacency list in a text file\n",
    "data = open(\"testCase.txt\", \"r\")\n",
    "G = {}\n",
    "for line in data:\n",
    "    lst = [int(s) for s in line.split()]  # creates a list for each line of text file\n",
    "    G[lst[0]] = lst[1:]  # adds the list for one vertex to the entire adj list in G\n",
    "    # The code that creates an adjacency list from a text file(lines 6-10) were done with help from online resources\n",
    "    \n",
    "def choose_random_key(G):\n",
    "    a = random.choice(list(G.keys()))  # picks a random vertex\n",
    "    b = random.choice(list(G[a]))      # picks a random edge in the adjacency list\n",
    "    return a, b\n",
    "\n",
    "def contract_2(G,a,b):\n",
    "    \"\"\"\n",
    "    Complexité de cet algorithme Linéaire en O(n²)\n",
    "    \"\"\"\n",
    "    # Contraction in the case of list of adjacency representation\n",
    "    G[a].extend(G[b])  # copies all items Linear time\n",
    "    \n",
    "    for x in G[b]:\n",
    "        G[x].remove(b)  # remove the other occurrences of b in adjacency list\n",
    "        G[x].append(a)  # tell them to look at a instead\n",
    "\n",
    "    while a in G[a]:\n",
    "        G[a].remove(a)  # remove self loops\n",
    "\n",
    "    del G[b]  # getting rid of the empty vertex from the adj list\n",
    "    \n",
    "    return G\n",
    "\n",
    "\n",
    "def Karger_2(G):\n",
    "    \n",
    "    A = G.copy()\n",
    "    \n",
    "    S = dict.fromkeys(A.keys(),[])\n",
    "    S2 = []\n",
    "    while len(A) > 2:\n",
    "        a, b = choose_random_key(A)  # the nodes that are part of the random edge\n",
    "        \n",
    "        A = contract_2(A,a,b)\n",
    "        \n",
    "        S[a].append(b)\n",
    "\n",
    "    S2.append(a)\n",
    "    S2 = S2 + S[a]\n",
    "    \n",
    "    return S2,len(A[a])  # length of either vertex is same so just picked a\n",
    "\n",
    "print(\"Running Karger one time: \", Karger_2(G))"
   ]
  },
  {
   "cell_type": "markdown",
   "id": "408bfad5",
   "metadata": {},
   "source": [
    "### 1.f"
   ]
  },
  {
   "cell_type": "markdown",
   "id": "dc6f7b12",
   "metadata": {},
   "source": [
    "Pour effectuer le tirage aléatoire en dans le cas d'une représentation du graphe G avec une liste d'adjacence, il suffit de choisir aléatoirement de manière uniforme une clé (ie un sommet) parmi les sommets du graphe (ceci se fait en temps linaire), de même on accède à la liste d'adjacence du sommet selectionné (en temps constant), puis on tire aléatoirement un sommet dans cette liste (en temps linéaire également).\n",
    "\n",
    "Donc la complexité de l'opération du tirage aléatoire d'une arête pour la contraction est de l'ordre de O(n)."
   ]
  },
  {
   "cell_type": "markdown",
   "id": "2c543dd5",
   "metadata": {},
   "source": [
    "### 1.g Analyse de la complexité théorique de l’algorithme avec liste d'adjacence"
   ]
  },
  {
   "cell_type": "markdown",
   "id": "e605f7e9",
   "metadata": {},
   "source": [
    "La complexité théorique de l'algorithme de Karger adapté au cas de représentation du graphe par liste d'adjacence est cubique de l'ordre de O(n3).\n",
    "\n",
    "En effet, dans chaque itération de la boucle (while nb_sommets>2) on réalise une opération de choix de l'arête (O(n)) en plus d'une opération de contraction.\n",
    "\n",
    "La contraction de l'arête choisie se fait en temps quadratique O(n²) du fait de copier tout les éléments du deuxième sommet de l'arête dans la liste d'adjacence du premier sommet de l'arête.\n",
    "\n",
    "On réitère ce processus (n-2) fois, donc on obtient une complexité temporelle en O(n3)"
   ]
  },
  {
   "cell_type": "markdown",
   "id": "906bb375",
   "metadata": {},
   "source": [
    "### 1.h Analyse expérimentale de la complexité :"
   ]
  },
  {
   "cell_type": "code",
   "execution_count": null,
   "id": "15cc04de",
   "metadata": {},
   "outputs": [],
   "source": []
  },
  {
   "cell_type": "markdown",
   "id": "4c2be1f5",
   "metadata": {},
   "source": [
    "### 1.i"
   ]
  },
  {
   "cell_type": "code",
   "execution_count": 75,
   "id": "e488267c",
   "metadata": {},
   "outputs": [],
   "source": [
    "M = np.array([[0,1,1,0,0,0],\n",
    "              [1,0,0,1,1,0],\n",
    "              [1,0,0,1,0,0],\n",
    "              [0,1,1,0,1,0],\n",
    "              [0,1,0,1,0,1],\n",
    "              [0,0,0,0,1,0]])\n",
    "\n",
    "W = np.array([[0,3,1,0,0,0],\n",
    "              [3,0,0,1,1,0],\n",
    "              [1,0,0,10,0,0],\n",
    "              [0,1,10,0,1,0],\n",
    "              [0,1,0,1,0,20],\n",
    "              [0,0,0,0,20,0]])\n",
    "\n",
    "P = W/np.sum(W)"
   ]
  },
  {
   "cell_type": "code",
   "execution_count": 76,
   "id": "9c4b44da",
   "metadata": {},
   "outputs": [
    {
     "name": "stdout",
     "output_type": "stream",
     "text": [
      "1\n",
      "20\n"
     ]
    }
   ],
   "source": [
    "def edge_choice(G,W):\n",
    "    rng = np.random.choice(a = np.arange(G.shape[0]*G.shape[0]), p = np.ndarray.flatten(W/np.sum(W)))\n",
    "    i = int(rng/M.shape[0])\n",
    "    j = rng%M.shape[0]\n",
    "    \n",
    "    return i,j\n",
    "\n",
    "i,j = edge_choice(M,W)\n",
    "print(M[i,j])\n",
    "print(W[i,j])"
   ]
  },
  {
   "cell_type": "code",
   "execution_count": 77,
   "id": "9e7804f3",
   "metadata": {},
   "outputs": [],
   "source": [
    "def Karger_b(M,W, verbose= False, len_cut = True) :\n",
    "    # Show the resulting list\n",
    "    def print_fusion(fusion):\n",
    "        for i in range(len(fusion)):\n",
    "            if len(fusion[i])>0:\n",
    "                print(fusion[i])\n",
    "    \n",
    "    # Init\n",
    "    A = M.copy()\n",
    "    fusion = [[i] for i in range(A.shape[0])]\n",
    "    \n",
    "    \n",
    "    sum_lines = np.sum(A,axis=1)\n",
    "    nb_vertex = A.shape[0]\n",
    "    \n",
    "    if verbose:\n",
    "        print(\"---\")\n",
    "        print(\"DEBUG\")\n",
    "        print(\"---\")\n",
    "        print(A)\n",
    "        print(sum_lines)\n",
    "    # While the number of vertex is higher than 2\n",
    "    while nb_vertex > 2 :\n",
    "        # An inner loop to avoid choosing an edge that has\n",
    "        # a negative value in the adjacency matrix\n",
    "        # This is taking a lot of time when the matrix is high dimensional\n",
    "        i,j = edge_choice(A,W)\n",
    "        val = A[i,j]\n",
    "\n",
    "        # realises a contraction on the edge (i,j)\n",
    "        A = contract(A,i,j)\n",
    "        \n",
    "        ## Update of the data structures\n",
    "        \n",
    "        # Append the merged vertex\n",
    "        for e in fusion[j]:\n",
    "            fusion[i].append(e)\n",
    "        fusion[j] = []\n",
    "        \n",
    "        W[i,j] = 0\n",
    "        W[j,i] = 0\n",
    "        \n",
    "        # Update the sum_lines list\n",
    "        #sum_lines[i] += sum_lines[j] - val\n",
    "        sum_lines[i] += sum_lines[j]\n",
    "        sum_lines[i] -= 2*val\n",
    "        sum_lines[j] = 0\n",
    "        # We have merged two vertex\n",
    "        nb_vertex-=1\n",
    "        # Log\n",
    "        if verbose:\n",
    "            print(i,j)\n",
    "            print(A)\n",
    "            print(\"sommets: \",nb_vertex)\n",
    "            print(\"somme ligne :\", sum_lines)\n",
    "            \n",
    "    if verbose :\n",
    "        print_fusion(fusion)\n",
    "    \n",
    "    S = []\n",
    "    for i in range(len(fusion)):\n",
    "        if len(fusion[i])>0:\n",
    "            S.append(fusion[i])\n",
    "    \n",
    "    coupure = A[A>0][0]\n",
    "    weight = W[W>0][0]\n",
    "        \n",
    "    if len_cut:\n",
    "        return S[0], coupure\n",
    "    return S[0]\n",
    "\n",
    "# I think I found the bug\n",
    "# In fact, I shouldn't be choosing the points where \n",
    "# the line/column has already been \"removed\" or put to -1"
   ]
  },
  {
   "cell_type": "code",
   "execution_count": 78,
   "id": "a0b4bc01",
   "metadata": {},
   "outputs": [
    {
     "data": {
      "text/plain": [
       "(array([[0, 3, 1, 0, 0, 0],\n",
       "        [3, 0, 0, 0, 1, 0],\n",
       "        [1, 0, 0, 0, 0, 0],\n",
       "        [0, 0, 0, 0, 0, 0],\n",
       "        [0, 1, 0, 0, 0, 0],\n",
       "        [0, 0, 0, 0, 0, 0]]),\n",
       " [0],\n",
       " 1)"
      ]
     },
     "execution_count": 78,
     "metadata": {},
     "output_type": "execute_result"
    }
   ],
   "source": [
    "Karger_b(M,W)"
   ]
  },
  {
   "cell_type": "markdown",
   "id": "b48c04b5",
   "metadata": {},
   "source": [
    "-------"
   ]
  },
  {
   "cell_type": "markdown",
   "id": "96f4057f",
   "metadata": {},
   "source": [
    "---"
   ]
  },
  {
   "cell_type": "markdown",
   "id": "ba1114f2",
   "metadata": {},
   "source": [
    "## Exercice 02:"
   ]
  },
  {
   "cell_type": "markdown",
   "id": "05ef341c",
   "metadata": {},
   "source": [
    "### 2.a \n",
    "<b>Réalisation d'une étude expérimentale de la probabilité de succés des implémentations de l'exercice 01</b>\n",
    "\n",
    "L'étude consiste à exécuter plusieurs fois l'algorithme de Karger implémenté en question 01 sur des familles de graphes différentes et pour lesquelles on connait la taille d'une coupe minimale, et de calculer la probabilité de succès de l'algorithme.\n",
    "\n",
    "Prenons l'exemple du graphe G suivant représenté par sa matrice d'adjacence M :\n",
    "\n",
    "$\\begin{bmatrix}\n",
    "0 & 1 & 1 & 0 & 0 & 0\\\\ \n",
    "1 & 0 & 0 & 1 & 1 & 0\\\\ \n",
    "1 & 0 & 0 & 1 & 0 & 0\\\\\n",
    "0 & 1 & 1 & 0 & 1 & 0\\\\ \n",
    "0 & 1 & 0 & 1 & 0 & 1\\\\ \n",
    "0 & 0 & 0 & 0 & 1 & 0\n",
    "\\end{bmatrix}$\n",
    "\n",
    "La taille de la coupe minimale est : 1\n",
    "\n",
    "Cette coupe correspond aux deux sous ensembles de sommets {1,2,3,4,5} et {6}"
   ]
  },
  {
   "cell_type": "markdown",
   "id": "902cc57e",
   "metadata": {},
   "source": [
    "Prenons l'exemple du graphe M2 (vu en cours) suivant représenté par sa matrice d'adjacence M :\n",
    "\n",
    "$\\begin{bmatrix}\n",
    "0 & 1 & 1 & 1 & 0 & 0 & 0 & 0 \\\\\n",
    "1 & 0 & 1 & 1 & 1 & 0 & 0 & 0 \\\\\n",
    "1 & 1 & 0 & 1 & 1 & 0 & 0 & 0 \\\\\n",
    "1 & 1 & 1 & 0 & 0 & 0 & 0 & 0 \\\\\n",
    "0 & 1 & 1 & 0 & 0 & 1 & 1 & 1 \\\\\n",
    "0 & 0 & 0 & 0 & 1 & 0 & 1 & 1 \\\\\n",
    "0 & 0 & 0 & 0 & 1 & 1 & 0 & 1 \\\\\n",
    "0 & 0 & 0 & 0 & 1 & 1 & 1 & 0\n",
    "\\end{bmatrix}$\n",
    "\n",
    "La taille de la coupe minimale est : 2\n",
    "\n",
    "Cette coupe correspond aux deux sous ensembles de sommets {1,2,3,4} et {5,6,7,8}"
   ]
  },
  {
   "cell_type": "code",
   "execution_count": 583,
   "id": "3906da9f",
   "metadata": {},
   "outputs": [],
   "source": [
    "M = np.array([[0,1,1,0,0,0],\n",
    "              [1,0,0,1,1,0],\n",
    "              [1,0,0,1,0,0],\n",
    "              [0,1,1,0,1,0],\n",
    "              [0,1,0,1,0,1],\n",
    "              [0,0,0,0,1,0]])\n",
    "\n",
    "M2 = np.array([[0,1,1,1,0,0,0,0],\n",
    "               [1,0,1,1,1,0,0,0],\n",
    "               [1,1,0,1,1,0,0,0],\n",
    "               [1,1,1,0,0,0,0,0],\n",
    "               [0,1,1,0,0,1,1,1],\n",
    "               [0,0,0,0,1,0,1,1],\n",
    "               [0,0,0,0,1,1,0,1],\n",
    "               [0,0,0,0,1,1,1,0]])"
   ]
  },
  {
   "cell_type": "code",
   "execution_count": 1,
   "id": "a55f233d",
   "metadata": {},
   "outputs": [],
   "source": [
    "def p_succes(G, min_cut, T=10000):\n",
    "    n = 0\n",
    "    for i in range(T):\n",
    "        _, m = Karger(G)\n",
    "        n += 1 if m==min_cut else 0\n",
    "    return (n/T)"
   ]
  },
  {
   "cell_type": "code",
   "execution_count": 588,
   "id": "1900f8ba",
   "metadata": {},
   "outputs": [
    {
     "data": {
      "text/plain": [
       "38.2"
      ]
     },
     "execution_count": 588,
     "metadata": {},
     "output_type": "execute_result"
    }
   ],
   "source": [
    "p_succes(M,min_cut=1)"
   ]
  },
  {
   "cell_type": "code",
   "execution_count": 589,
   "id": "54b11839",
   "metadata": {},
   "outputs": [
    {
     "data": {
      "text/plain": [
       "21.27"
      ]
     },
     "execution_count": 589,
     "metadata": {},
     "output_type": "execute_result"
    }
   ],
   "source": [
    "p_succes(M2,min_cut=2)"
   ]
  },
  {
   "cell_type": "markdown",
   "id": "12682312",
   "metadata": {},
   "source": [
    "### 2.b "
   ]
  },
  {
   "cell_type": "code",
   "execution_count": 594,
   "id": "ffbca31f",
   "metadata": {},
   "outputs": [],
   "source": [
    "def KargerItere(M,T=1000):\n",
    "    i = 0\n",
    "    min_cut = np.inf\n",
    "    S = []\n",
    "    \n",
    "    for i in range(T):\n",
    "        S1, m = Karger(M)\n",
    "        if m<min_cut:\n",
    "            min_cut = m\n",
    "            S = S1\n",
    "    \n",
    "    return S, min_cut"
   ]
  },
  {
   "cell_type": "code",
   "execution_count": 595,
   "id": "2e093d02",
   "metadata": {},
   "outputs": [
    {
     "data": {
      "text/plain": [
       "([[0, 3, 2, 1], [7, 4, 5, 6]], 2)"
      ]
     },
     "execution_count": 595,
     "metadata": {},
     "output_type": "execute_result"
    }
   ],
   "source": [
    "KargerItere(M2)"
   ]
  },
  {
   "cell_type": "markdown",
   "id": "c9cda932",
   "metadata": {},
   "source": [
    "---"
   ]
  },
  {
   "cell_type": "markdown",
   "id": "d70c107b",
   "metadata": {},
   "source": [
    "## Exercice 03:"
   ]
  },
  {
   "cell_type": "markdown",
   "id": "e16f9672",
   "metadata": {},
   "source": [
    "### 3.d"
   ]
  },
  {
   "cell_type": "code",
   "execution_count": 189,
   "id": "a0660259",
   "metadata": {},
   "outputs": [
    {
     "data": {
      "text/plain": [
       "array([[0, 2, 0, 0],\n",
       "       [2, 0, 2, 0],\n",
       "       [0, 2, 0, 1],\n",
       "       [0, 0, 1, 0]])"
      ]
     },
     "execution_count": 189,
     "metadata": {},
     "output_type": "execute_result"
    }
   ],
   "source": [
    "def ContractionPartielle(G, t):\n",
    "    # Init\n",
    "    A = G.copy()\n",
    "    \n",
    "    sum_lines = np.sum(A,axis=1)\n",
    "    nb_vertex = A.shape[0]\n",
    "    \n",
    "    # While the number of vertex is higher than 2\n",
    "    while nb_vertex > t :\n",
    "        # An inner loop to avoid choosing an edge that has\n",
    "        # a negative value in the adjacency matrix\n",
    "        # This is taking a lot of time when the matrix is high dimensional\n",
    "        while True : \n",
    "            val,i,j = arrete_choice(A, sum_lines)\n",
    "            # print(val, i,j)\n",
    "            if val>0:\n",
    "                break\n",
    "        # realises a contraction on the edge (i,j)\n",
    "        A = contract(A,i,j)\n",
    "        \n",
    "        A = np.delete(A, j, axis=0)\n",
    "        A = np.delete(A, j, axis=1)\n",
    "        \n",
    "        ## Update of the data structures\n",
    "        \n",
    "        # Update the sum_lines list\n",
    "        #sum_lines[i] += sum_lines[j] - val\n",
    "        sum_lines[i] += sum_lines[j]\n",
    "        sum_lines[i] -= 2*val\n",
    "        sum_lines = np.delete(sum_lines,j)\n",
    "        # We have merged two vertex\n",
    "        nb_vertex-=1\n",
    "            \n",
    "    \n",
    "    return A\n",
    "\n",
    "# TEST\n",
    "A = M.copy()\n",
    "A_ = ContractionPartielle(A, 4)\n",
    "A_"
   ]
  },
  {
   "cell_type": "code",
   "execution_count": 208,
   "id": "18af42cf",
   "metadata": {},
   "outputs": [],
   "source": [
    "def KargerStein(G):\n",
    "    m = np.inf\n",
    "    \n",
    "    if G.shape[0]<=6:\n",
    "        return Karger(G)\n",
    "    \n",
    "    else:\n",
    "        t = int(1 + G.shape[0]/2)\n",
    "        \n",
    "        G1 = ContractionPartielle(G,t)\n",
    "        S1,m1 = KargerStein(G1)\n",
    "        \n",
    "        G2 = ContractionPartielle(G,t)\n",
    "        S2,m2 = KargerStein(G2)\n",
    "        \n",
    "        if m1<m2:\n",
    "            return S1,m1\n",
    "        else:\n",
    "            return S2,m2"
   ]
  },
  {
   "cell_type": "code",
   "execution_count": 215,
   "id": "c467543d",
   "metadata": {},
   "outputs": [
    {
     "data": {
      "text/plain": [
       "array([[0, 1, 1, 1, 1, 1, 1, 1, 1, 1],\n",
       "       [1, 0, 1, 1, 1, 1, 1, 1, 1, 1],\n",
       "       [1, 1, 0, 1, 1, 1, 1, 1, 1, 1],\n",
       "       [1, 1, 1, 0, 1, 1, 1, 1, 1, 1],\n",
       "       [1, 1, 1, 1, 0, 1, 1, 1, 1, 1],\n",
       "       [1, 1, 1, 1, 1, 0, 1, 1, 1, 1],\n",
       "       [1, 1, 1, 1, 1, 1, 0, 1, 1, 1],\n",
       "       [1, 1, 1, 1, 1, 1, 1, 0, 1, 1],\n",
       "       [1, 1, 1, 1, 1, 1, 1, 1, 0, 1],\n",
       "       [1, 1, 1, 1, 1, 1, 1, 1, 1, 0]])"
      ]
     },
     "execution_count": 215,
     "metadata": {},
     "output_type": "execute_result"
    }
   ],
   "source": [
    "G = create_graph(10, ty='complete')\n",
    "G"
   ]
  },
  {
   "cell_type": "code",
   "execution_count": 216,
   "id": "092655ed",
   "metadata": {},
   "outputs": [
    {
     "data": {
      "text/plain": [
       "([0], 9)"
      ]
     },
     "execution_count": 216,
     "metadata": {},
     "output_type": "execute_result"
    }
   ],
   "source": [
    "KargerStein(G)"
   ]
  },
  {
   "cell_type": "code",
   "execution_count": null,
   "id": "bcce0222",
   "metadata": {},
   "outputs": [],
   "source": []
  }
 ],
 "metadata": {
  "kernelspec": {
   "display_name": "Python 3 (ipykernel)",
   "language": "python",
   "name": "python3"
  },
  "language_info": {
   "codemirror_mode": {
    "name": "ipython",
    "version": 3
   },
   "file_extension": ".py",
   "mimetype": "text/x-python",
   "name": "python",
   "nbconvert_exporter": "python",
   "pygments_lexer": "ipython3",
   "version": "3.10.0"
  }
 },
 "nbformat": 4,
 "nbformat_minor": 5
}
