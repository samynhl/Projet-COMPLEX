{
 "cells": [
  {
   "cell_type": "code",
   "execution_count": 28,
   "id": "15bd6083",
   "metadata": {},
   "outputs": [],
   "source": [
    "import numpy as np\n",
    "import pandas as pd\n",
    "import matplotlib.pyplot as plt\n",
    "import random, copy"
   ]
  },
  {
   "cell_type": "code",
   "execution_count": 29,
   "id": "a9d72e2e",
   "metadata": {},
   "outputs": [],
   "source": [
    "M = np.array([[0,1,1,0,0,0],\n",
    "              [1,0,0,1,1,0],\n",
    "              [1,0,0,1,0,0],\n",
    "              [0,1,1,0,1,0],\n",
    "              [0,1,0,1,0,1],\n",
    "              [0,0,0,0,1,0]])"
   ]
  },
  {
   "cell_type": "markdown",
   "id": "3df6a24e",
   "metadata": {},
   "source": [
    "### 1.a"
   ]
  },
  {
   "cell_type": "markdown",
   "id": "474e82a6",
   "metadata": {},
   "source": [
    "- Le multi graphe G est représenté par une matrice d'adjacence.\n",
    "- Pour réaliser l'opération de contraction d'une arête (i,j), on réalise les traitements suivants\n",
    "sur la matrice d'adjacence représentant le graphe G:<br>\n",
    "- Ajouter à la ligne et colonne du sommet i, la ligne et colonne du sommmet j <br>\n",
    "- Suprimer la ligne et la colonne correspondants au sommet j (car a été fusionné avec le sommet i pour construire un nouvel ensemble."
   ]
  },
  {
   "cell_type": "code",
   "execution_count": 30,
   "id": "15d13cfc",
   "metadata": {},
   "outputs": [],
   "source": [
    "def contract(A,i,j):\n",
    "    \"\"\"\n",
    "    Realise the contraction in the graph M represented by its adjancency matrix\n",
    "    \"\"\"\n",
    "    li = A[i,:]\n",
    "    lj = A[j,:]\n",
    "    ci = A[:,i]\n",
    "    cj = A[:,j]\n",
    "\n",
    "    A[i,:] = li + lj\n",
    "    A[:,i] = ci + cj\n",
    "\n",
    "    A[i,i] = 0\n",
    "\n",
    "    A[j,:] = -1\n",
    "    A[:,j] = -1\n",
    "    \n",
    "    return A"
   ]
  },
  {
   "cell_type": "markdown",
   "id": "d781793e",
   "metadata": {},
   "source": [
    "### 1.b"
   ]
  },
  {
   "cell_type": "code",
   "execution_count": 31,
   "id": "38f1dd21",
   "metadata": {},
   "outputs": [],
   "source": [
    "def create_graph(n_vertex,ty = \"random\"):\n",
    "    shape = (n_vertex,n_vertex)\n",
    "    if ty==\"random\":\n",
    "        M = np.random.randint(0,2,(shape))\n",
    "        np.fill_diagonal(M,0)\n",
    "    elif ty==\"complete\":\n",
    "        M = np.ones(shape)\n",
    "        np.fill_diagonal(M,0)\n",
    "    elif ty==\"biparti\":\n",
    "        n = n_vertex//2\n",
    "        A = np.concatenate((np.zeros((n,n)), np.ones((n,n))), axis=0)\n",
    "        B = np.concatenate((np.ones((n,n)), np.zeros((n,n))), axis=0)\n",
    "        M = np.concatenate((A,B), axis=1)\n",
    "    return M.astype(int)"
   ]
  },
  {
   "cell_type": "code",
   "execution_count": 32,
   "id": "9d59033b",
   "metadata": {},
   "outputs": [],
   "source": [
    "G_random = create_graph(6,ty=\"random\")\n",
    "G_complete = create_graph(6,ty=\"complete\")\n",
    "G_biparti = create_graph(6,ty=\"biparti\")"
   ]
  },
  {
   "cell_type": "markdown",
   "id": "7d299ac8",
   "metadata": {},
   "source": [
    "### 1.c"
   ]
  },
  {
   "cell_type": "markdown",
   "id": "8941a2bc",
   "metadata": {},
   "source": [
    "le graphe G est possiblement devenu un multi-graphe avec plusieurs arêtes entre deux sommets.\n",
    "Dans notre analyse théorique de la complexité de l'algorithme de Karger, nous avons supposée\n",
    "que l'arêtes e de l'opération de sélection aléeatoire dans la boucle tant que est\n",
    "tirée uniformement aléatoirement parmi toutes les arêtes possibles. \n",
    "\n",
    "Pour effectuer ce tirage aléatoire lorsque le multi-graphe G est représenté par une matrice d'adjacence, on réalise les étapes suivantes :\n",
    "\n",
    "Etant donnée une liste somme_ligne de tailles nombre de sommets dans le graphe G, et contenant dans chaque case le nombre de sommmets par ligne dans la matrice d'adjacence :\n",
    "\n",
    "Exemple :\n",
    "\n",
    "Pour la matrice  $\\begin{bmatrix}\n",
    "0 & 1 & 1\\\\ \n",
    "1 & 0 & 1\\\\ \n",
    "1 & 0 & 0\n",
    "\\end{bmatrix}$ on retrouve la liste : $\\begin{bmatrix}\n",
    "2 & 2 & 1\n",
    "\\end{bmatrix}$\n",
    "\n",
    "Donc, pour choisir aléatoirement selon une loi uniforme une arête parmi toutes les arêtes du graphe, on tire un nombre aléatoire entre 1 et le nombre d'arêtes du graphe G (qui n'est rien d'autre que la somme des éléments de la liste sommme_liste).\n",
    "\n",
    "Soit a le numéro de l'arête qu'on a tiré précédemment, en utilisant la somme cummulée des éléments de la liste somme_ligne, on peut reperer la ligne ou se trouve cette arête. Cette étape se réalise en temps linéaire O(n) dans le pire des cas.\n",
    "\n",
    "De même pour la colonne, on fait la somme cummulé et on retrouve le numéro de colonne. Cette étape se réalise également en temps linéaire O(n) dans le pire des cas.\n",
    "\n",
    "A la fin de cette procédure, on retourne une l'indice de l'arête (i,j) tiré aléatoirement du graphe G en temps linéaire.\n"
   ]
  },
  {
   "cell_type": "code",
   "execution_count": 15,
   "id": "56c0bfad",
   "metadata": {},
   "outputs": [],
   "source": [
    "# Implémentation de la fonction de tirage aléatoire d'arête\n",
    "# Random choice\n",
    "def arrete_choice(M, somme_ligne) :\n",
    "    \"\"\"\n",
    "    Chooses a random edge from the multi graph G\n",
    "    represented by its adjacency matrix\n",
    "        M : Adjacency matrix\n",
    "        somme_ligne : list containing number of edges per line in M\n",
    "    returns :\n",
    "        M[i,j],i,j\n",
    "    \"\"\"\n",
    "    # Pick up up a random number of edge\n",
    "    nb_arrete = np.sum(somme_ligne)\n",
    "    random_arrete = np.random.randint(nb_arrete)\n",
    "    \n",
    "    # Find in linear time the line index of that edge\n",
    "    cumul = 0\n",
    "    for i in range(len(somme_ligne)) :\n",
    "        cumul += somme_ligne[i]\n",
    "        if cumul > random_arrete :\n",
    "            break\n",
    "    \n",
    "    # Find in linear time the column index of that edge\n",
    "    j = random_arrete - (cumul - somme_ligne[i])\n",
    "    cumul = 0\n",
    "    for k in range(M.shape[1]) :\n",
    "        cumul += M[i,k]\n",
    "        if cumul > j :\n",
    "            break\n",
    "\n",
    "    return M[i,k],i,k"
   ]
  },
  {
   "cell_type": "markdown",
   "id": "020be85f",
   "metadata": {},
   "source": [
    "### 1.d"
   ]
  },
  {
   "cell_type": "code",
   "execution_count": 26,
   "id": "d92c91ac",
   "metadata": {},
   "outputs": [],
   "source": [
    "def Karger(M, verbose= False) :\n",
    "    # Show the resulting list\n",
    "    def print_fusion(fusion):\n",
    "        for i in range(len(fusion)):\n",
    "            if len(fusion[i])>0:\n",
    "                print(fusion[i])\n",
    "    \n",
    "    # Init\n",
    "    A = M.copy()\n",
    "    fusion = [[i] for i in range(A.shape[0])]\n",
    "    \n",
    "    \n",
    "    sum_lines = np.sum(A,axis=1)\n",
    "    nb_vertex = A.shape[0]\n",
    "    \n",
    "    # While the number of vertex is higher than 2\n",
    "    while nb_vertex > 2 :\n",
    "        # An inner loop to avoid choosing an edge that has\n",
    "        # a negative value in the adjacency matrix\n",
    "        while True : \n",
    "            val,i,j = arrete_choice(A, sum_lines)\n",
    "            if val>0:\n",
    "                break\n",
    "        # realises a contraction on the edge (i,j)\n",
    "        A = contract(A,i,j)\n",
    "        \n",
    "        ## Update of the data structures\n",
    "        \n",
    "        # Append the merged vertex\n",
    "        for e in fusion[j]:\n",
    "            fusion[i].append(e)\n",
    "        fusion[j] = []\n",
    "        \n",
    "        # Update the sum_lines list\n",
    "        sum_lines[i] += sum_lines[j] - val\n",
    "        sum_lines[j] = 0\n",
    "        # We have merged two vertex\n",
    "        nb_vertex-=1\n",
    "        # Log\n",
    "        if verbose:\n",
    "            print(\"---\")\n",
    "            print(\"for debug\")\n",
    "            print(\"---\")\n",
    "            print(A)\n",
    "            print(\"sommets: \",nb_vertex)\n",
    "            print(\"somme ligne :\", sum_lines)\n",
    "            \n",
    "    if verbose :\n",
    "        print_fusion(fusion)\n",
    "    \n",
    "    S = []\n",
    "    for i in range(len(fusion)):\n",
    "        if len(fusion[i])>0:\n",
    "            S.append(fusion[i])\n",
    "    \n",
    "    coupure = A[A>0][0]\n",
    "    \n",
    "    return S, coupure\n",
    "\n",
    "# I think I found the bug\n",
    "# In fact, I shouldn't be choosing the points where \n",
    "# the line/column has already been \"removed\" or put to -1"
   ]
  },
  {
   "cell_type": "code",
   "execution_count": 27,
   "id": "6ef8cedd",
   "metadata": {},
   "outputs": [
    {
     "name": "stdout",
     "output_type": "stream",
     "text": [
      "V : [[2, 0], [3, 1, 4, 5]]\n",
      "The cut returned by Karger Algorithm : 2\n"
     ]
    }
   ],
   "source": [
    "S, cut = Karger(M)\n",
    "print(\"V :\", S)\n",
    "print(\"The cut returned by Karger Algorithm :\", cut)"
   ]
  },
  {
   "cell_type": "markdown",
   "id": "d101bf52",
   "metadata": {},
   "source": [
    "### 1.e"
   ]
  },
  {
   "cell_type": "markdown",
   "id": "1987a87b",
   "metadata": {},
   "source": [
    "La deuxième structure de données pour laquelle nous avons opté est la liste d'adjacence."
   ]
  },
  {
   "cell_type": "code",
   "execution_count": 52,
   "id": "3c757ab6",
   "metadata": {},
   "outputs": [
    {
     "name": "stdout",
     "output_type": "stream",
     "text": [
      "{1: [2, 3, 4, 7], 2: [1, 3, 4], 3: [1, 2, 4], 4: [1, 2, 3, 5], 5: [4, 6, 7, 8], 6: [5, 7, 8], 7: [1, 5, 6, 8], 8: [5, 6, 7]}\n",
      "6 8\n",
      "{1: [2, 3, 4, 7], 2: [1, 3, 4], 3: [1, 2, 4], 4: [1, 2, 3, 5], 5: [4, 6, 7, 6], 6: [5, 7, 5, 7], 7: [1, 5, 6, 6]}\n",
      "1 2\n",
      "{1: [3, 4, 7, 3, 4], 3: [1, 4, 1], 4: [1, 3, 5, 1], 5: [4, 6, 7, 6], 6: [5, 7, 5, 7], 7: [1, 5, 6, 6]}\n",
      "4 3\n",
      "{1: [4, 7, 4, 4, 4], 4: [1, 5, 1, 1, 1], 5: [4, 6, 7, 6], 6: [5, 7, 5, 7], 7: [1, 5, 6, 6]}\n",
      "1 4\n",
      "{1: [7, 5], 5: [6, 7, 6, 1], 6: [5, 7, 5, 7], 7: [1, 5, 6, 6]}\n",
      "1 5\n",
      "{1: [7, 6, 7, 6], 6: [7, 7, 1, 1], 7: [1, 6, 6, 1]}\n",
      "1 6\n",
      "{1: [7, 7, 7, 7], 7: [1, 1, 1, 1]}\n",
      "Running Karger one time:  ({0: [8, 2, 3, 4, 5, 6], 1: [8, 2, 3, 4, 5, 6], 2: [8, 2, 3, 4, 5, 6], 3: [8, 2, 3, 4, 5, 6], 4: [8, 2, 3, 4, 5, 6], 5: [8, 2, 3, 4, 5, 6], 6: [8, 2, 3, 4, 5, 6], 7: [8, 2, 3, 4, 5, 6]}, 4)\n"
     ]
    }
   ],
   "source": [
    "#input can be any adjacency list in a text file\n",
    "data = open(\"testCase.txt\", \"r\")\n",
    "G = {}\n",
    "for line in data:\n",
    "    lst = [int(s) for s in line.split()]  # creates a list for each line of text file\n",
    "    G[lst[0]] = lst[1:]  # adds the list for one vertex to the entire adj list in G\n",
    "    # The code that creates an adjacency list from a text file(lines 6-10) were done with help from online resources\n",
    "    \n",
    "def choose_random_key(G):\n",
    "    a = random.choice(list(G.keys()))  # picks a random vertex\n",
    "    b = random.choice(list(G[a]))      # picks a random edge in the adjacency list\n",
    "    return a, b\n",
    "\n",
    "\n",
    "def karger(G):\n",
    "    S = dict.fromkeys(range(len(G)), [])\n",
    "    print(G)\n",
    "    while len(G) > 2:\n",
    "        a, b = choose_random_key(G)  # the nodes that are part of the random edge\n",
    "        G[a].extend(G[b])  # copies all items Linear time\n",
    "\n",
    "        for x in G[b]:\n",
    "            G[x].remove(b)  # remove the other occurrences of b in adjacency list\n",
    "            G[x].append(a)  # tell them to look at a instead\n",
    "            \n",
    "        while a in G[a]:\n",
    "            G[a].remove(a)  # remove self loops\n",
    "            \n",
    "        del G[b]  # getting rid of the empty vertex from the adj list\n",
    "        \n",
    "        S[a].append(b)\n",
    "        # Debug\n",
    "        print(a,b)\n",
    "        print(G)\n",
    "    return S,len(G[a])  # length of either vertex is same so just picked a\n",
    "\n",
    "\n",
    "def multipleKarger(iterations):\n",
    "    i = 0\n",
    "    count = 10000000000  # a very large number that isn't a possible mincut\n",
    "    while i < iterations:\n",
    "        data = copy.deepcopy(G)  # this way don't have to reread the txt file\n",
    "        min_cut = karger(data)\n",
    "        if min_cut < count:\n",
    "            count = min_cut\n",
    "        i = i + 1\n",
    "    return count\n",
    "\n",
    "\n",
    "print(\"Running Karger one time: \", karger(G))\n",
    "#print(\"Running Karger one time: \", multipleKarger(1))\n",
    "#print(\"Running Karger 100 times: \", multipleKarger(100))"
   ]
  },
  {
   "cell_type": "markdown",
   "id": "b48c04b5",
   "metadata": {},
   "source": [
    "---"
   ]
  },
  {
   "cell_type": "markdown",
   "id": "96f4057f",
   "metadata": {},
   "source": [
    "---"
   ]
  },
  {
   "cell_type": "markdown",
   "id": "ba1114f2",
   "metadata": {},
   "source": [
    "## Exercice 02:"
   ]
  },
  {
   "cell_type": "markdown",
   "id": "12682312",
   "metadata": {},
   "source": [
    "### 2.b "
   ]
  },
  {
   "cell_type": "code",
   "execution_count": 6,
   "id": "ffbca31f",
   "metadata": {},
   "outputs": [],
   "source": [
    "def KargerItere(M,T):\n",
    "    i = 0\n",
    "    min_cut = np.inf\n",
    "    S = []\n",
    "    \n",
    "    for i in range(T):\n",
    "        S1, m = Karger(M)\n",
    "        if m<min_cut:\n",
    "            min_cut = m\n",
    "            S = S1\n",
    "    \n",
    "    return S, min_cut"
   ]
  },
  {
   "cell_type": "code",
   "execution_count": 7,
   "id": "2e093d02",
   "metadata": {},
   "outputs": [
    {
     "ename": "NameError",
     "evalue": "name 'Karger' is not defined",
     "output_type": "error",
     "traceback": [
      "\u001b[1;31m---------------------------------------------------------------------------\u001b[0m",
      "\u001b[1;31mNameError\u001b[0m                                 Traceback (most recent call last)",
      "Input \u001b[1;32mIn [7]\u001b[0m, in \u001b[0;36m<module>\u001b[1;34m\u001b[0m\n\u001b[1;32m----> 1\u001b[0m \u001b[43mKargerItere\u001b[49m\u001b[43m(\u001b[49m\u001b[43mM\u001b[49m\u001b[43m,\u001b[49m\u001b[43m \u001b[49m\u001b[43mT\u001b[49m\u001b[43m \u001b[49m\u001b[38;5;241;43m=\u001b[39;49m\u001b[43m \u001b[49m\u001b[38;5;241;43m100\u001b[39;49m\u001b[43m)\u001b[49m\n",
      "Input \u001b[1;32mIn [6]\u001b[0m, in \u001b[0;36mKargerItere\u001b[1;34m(M, T)\u001b[0m\n\u001b[0;32m      4\u001b[0m S \u001b[38;5;241m=\u001b[39m []\n\u001b[0;32m      6\u001b[0m \u001b[38;5;28;01mfor\u001b[39;00m i \u001b[38;5;129;01min\u001b[39;00m \u001b[38;5;28mrange\u001b[39m(T):\n\u001b[1;32m----> 7\u001b[0m     S1, m \u001b[38;5;241m=\u001b[39m \u001b[43mKarger\u001b[49m(M)\n\u001b[0;32m      8\u001b[0m     \u001b[38;5;28;01mif\u001b[39;00m m\u001b[38;5;241m<\u001b[39mmin_cut:\n\u001b[0;32m      9\u001b[0m         min_cut \u001b[38;5;241m=\u001b[39m m\n",
      "\u001b[1;31mNameError\u001b[0m: name 'Karger' is not defined"
     ]
    }
   ],
   "source": [
    "KargerItere(M, T = 100)"
   ]
  },
  {
   "cell_type": "markdown",
   "id": "c9cda932",
   "metadata": {},
   "source": [
    "---"
   ]
  },
  {
   "cell_type": "markdown",
   "id": "d70c107b",
   "metadata": {},
   "source": [
    "## Exercice 03:"
   ]
  },
  {
   "cell_type": "code",
   "execution_count": null,
   "id": "a0660259",
   "metadata": {},
   "outputs": [],
   "source": [
    "def ContractionPartielle(G, t):\n",
    "    "
   ]
  }
 ],
 "metadata": {
  "kernelspec": {
   "display_name": "Python 3 (ipykernel)",
   "language": "python",
   "name": "python3"
  },
  "language_info": {
   "codemirror_mode": {
    "name": "ipython",
    "version": 3
   },
   "file_extension": ".py",
   "mimetype": "text/x-python",
   "name": "python",
   "nbconvert_exporter": "python",
   "pygments_lexer": "ipython3",
   "version": "3.10.0"
  }
 },
 "nbformat": 4,
 "nbformat_minor": 5
}
