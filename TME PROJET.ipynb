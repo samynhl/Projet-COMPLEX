{
 "cells": [
  {
   "cell_type": "code",
   "execution_count": 95,
   "id": "15bd6083",
   "metadata": {},
   "outputs": [],
   "source": [
    "import numpy as np\n",
    "import pandas as pd\n",
    "import matplotlib.pyplot as plt\n",
    "import random, copy"
   ]
  },
  {
   "cell_type": "code",
   "execution_count": 137,
   "id": "a9d72e2e",
   "metadata": {},
   "outputs": [],
   "source": [
    "M = np.array([[0,1,1,0,0,0],\n",
    "              [1,0,0,1,1,0],\n",
    "              [1,0,0,1,0,0],\n",
    "              [0,1,1,0,1,0],\n",
    "              [0,1,0,1,0,1],\n",
    "              [0,0,0,0,1,0]])\n",
    "\n",
    "M2 = np.array([[0,1,1,1,0,0,0,0],\n",
    "               [1,0,1,1,1,0,0,0],\n",
    "               [1,1,0,1,1,0,0,0],\n",
    "               [1,1,1,0,0,0,0,0],\n",
    "               [0,1,1,0,0,1,1,1],\n",
    "               [0,0,0,0,1,0,1,1],\n",
    "               [0,0,0,0,1,1,0,1],\n",
    "               [0,0,0,0,1,1,1,0]])"
   ]
  },
  {
   "cell_type": "markdown",
   "id": "3df6a24e",
   "metadata": {},
   "source": [
    "### 1.a"
   ]
  },
  {
   "cell_type": "markdown",
   "id": "474e82a6",
   "metadata": {},
   "source": [
    "- Le multi graphe G est représenté par une matrice d'adjacence.\n",
    "- Pour réaliser l'opération de contraction d'une arête (i,j), on réalise les traitements suivants\n",
    "sur la matrice d'adjacence représentant le graphe G:<br>\n",
    "- Ajouter à la ligne et colonne du sommet i, la ligne et colonne du sommmet j <br>\n",
    "- Suprimer la ligne et la colonne correspondants au sommet j (car a été fusionné avec le sommet i pour construire un nouvel ensemble."
   ]
  },
  {
   "cell_type": "code",
   "execution_count": 97,
   "id": "15d13cfc",
   "metadata": {},
   "outputs": [],
   "source": [
    "def contract(A,i,j):\n",
    "    \"\"\"\n",
    "    Realise the contraction in the graph M represented by its adjancency matrix\n",
    "    \"\"\"\n",
    "    li = A[i,:]\n",
    "    lj = A[j,:]\n",
    "    ci = A[:,i]\n",
    "    cj = A[:,j]\n",
    "\n",
    "    A[i,:] = li + lj\n",
    "    A[:,i] = ci + cj\n",
    "\n",
    "    A[i,i] = 0\n",
    "\n",
    "    A[j,:] = -1\n",
    "    A[:,j] = -1\n",
    "    \n",
    "    return A"
   ]
  },
  {
   "cell_type": "markdown",
   "id": "d781793e",
   "metadata": {},
   "source": [
    "### 1.b"
   ]
  },
  {
   "cell_type": "code",
   "execution_count": 98,
   "id": "38f1dd21",
   "metadata": {},
   "outputs": [],
   "source": [
    "def create_graph(n_vertex,ty = \"random\"):\n",
    "    shape = (n_vertex,n_vertex)\n",
    "    if ty==\"random\":\n",
    "        M = np.random.randint(0,2,(shape))\n",
    "        np.fill_diagonal(M,0)\n",
    "    elif ty==\"complete\":\n",
    "        M = np.ones(shape)\n",
    "        np.fill_diagonal(M,0)\n",
    "    elif ty==\"biparti\":\n",
    "        n = n_vertex//2\n",
    "        A = np.concatenate((np.zeros((n,n)), np.ones((n,n))), axis=0)\n",
    "        B = np.concatenate((np.ones((n,n)), np.zeros((n,n))), axis=0)\n",
    "        M = np.concatenate((A,B), axis=1)\n",
    "    return M.astype(int)"
   ]
  },
  {
   "cell_type": "code",
   "execution_count": 99,
   "id": "9d59033b",
   "metadata": {},
   "outputs": [],
   "source": [
    "G_random = create_graph(6,ty=\"random\")\n",
    "G_complete = create_graph(6,ty=\"complete\")\n",
    "G_biparti = create_graph(6,ty=\"biparti\")"
   ]
  },
  {
   "cell_type": "markdown",
   "id": "7d299ac8",
   "metadata": {},
   "source": [
    "### 1.c"
   ]
  },
  {
   "cell_type": "markdown",
   "id": "8941a2bc",
   "metadata": {},
   "source": [
    "le graphe G est possiblement devenu un multi-graphe avec plusieurs arêtes entre deux sommets.\n",
    "Dans notre analyse théorique de la complexité de l'algorithme de Karger, nous avons supposée\n",
    "que l'arêtes e de l'opération de sélection aléeatoire dans la boucle tant que est\n",
    "tirée uniformement aléatoirement parmi toutes les arêtes possibles. \n",
    "\n",
    "Pour effectuer ce tirage aléatoire lorsque le multi-graphe G est représenté par une matrice d'adjacence, on réalise les étapes suivantes :\n",
    "\n",
    "Etant donnée une liste somme_ligne de tailles nombre de sommets dans le graphe G, et contenant dans chaque case le nombre de sommmets par ligne dans la matrice d'adjacence :\n",
    "\n",
    "Exemple :\n",
    "\n",
    "Pour la matrice  $\\begin{bmatrix}\n",
    "0 & 1 & 1\\\\ \n",
    "1 & 0 & 1\\\\ \n",
    "1 & 0 & 0\n",
    "\\end{bmatrix}$ on retrouve la liste : $\\begin{bmatrix}\n",
    "2 & 2 & 1\n",
    "\\end{bmatrix}$\n",
    "\n",
    "Donc, pour choisir aléatoirement selon une loi uniforme une arête parmi toutes les arêtes du graphe, on tire un nombre aléatoire entre 1 et le nombre d'arêtes du graphe G (qui n'est rien d'autre que la somme des éléments de la liste sommme_liste).\n",
    "\n",
    "Soit a le numéro de l'arête qu'on a tiré précédemment, en utilisant la somme cummulée des éléments de la liste somme_ligne, on peut reperer la ligne ou se trouve cette arête. Cette étape se réalise en temps linéaire O(n) dans le pire des cas.\n",
    "\n",
    "De même pour la colonne, on fait la somme cummulé et on retrouve le numéro de colonne. Cette étape se réalise également en temps linéaire O(n) dans le pire des cas.\n",
    "\n",
    "A la fin de cette procédure, on retourne une l'indice de l'arête (i,j) tiré aléatoirement du graphe G en temps linéaire.\n"
   ]
  },
  {
   "cell_type": "code",
   "execution_count": 535,
   "id": "56c0bfad",
   "metadata": {},
   "outputs": [],
   "source": [
    "# Implémentation de la fonction de tirage aléatoire d'arête\n",
    "# Random choice\n",
    "def arrete_choice(M, sum_lines) :\n",
    "    \"\"\"\n",
    "    Chooses a random edge from the multi graph G\n",
    "    represented by its adjacency matrix\n",
    "        M : Adjacency matrix\n",
    "        somme_ligne : list containing number of edges per line in M\n",
    "    returns :\n",
    "        M[i,j],i,j\n",
    "    \"\"\"\n",
    "    # Pick up up a random number of edge\n",
    "    nb_arrete = np.sum(sum_lines)\n",
    "    random_arrete = np.random.randint(nb_arrete)\n",
    "    \n",
    "    # Find in linear time the line index of that edge\n",
    "    cumul = 0\n",
    "    for i in range(len(sum_lines)) :\n",
    "        cumul += sum_lines[i]\n",
    "        if cumul > random_arrete :\n",
    "            break\n",
    "    \n",
    "    # Find in linear time the column index of that edge\n",
    "    j = random_arrete - (cumul - sum_lines[i])\n",
    "    cumul = 0\n",
    "    for k in range(M.shape[1]) :\n",
    "        cumul += M[i,k] if M[i,k]>0 else 0\n",
    "        if cumul > j :\n",
    "            break\n",
    "\n",
    "    return M[i,k],i,k"
   ]
  },
  {
   "cell_type": "code",
   "execution_count": 546,
   "id": "4fd521ba",
   "metadata": {},
   "outputs": [
    {
     "data": {
      "text/plain": [
       "(2, 4, 1)"
      ]
     },
     "execution_count": 546,
     "metadata": {},
     "output_type": "execute_result"
    }
   ],
   "source": [
    "A = np.array([[-1,-2, -1, -1, -3, -1, -1, -1],\n",
    "              [-2, 0, -1, -3,  2, -2,  0, -2],\n",
    "              [-1,-1, -1, -1, -1, -1, -1, -1],\n",
    "              [-1,-3, -1, -1, -3, -1, -1, -1],\n",
    "              [-3, 2, -1, -3,  0, -1,  3, -2],\n",
    "              [-1,-2, -1, -1, -1, -1, -1, -1],\n",
    "              [-1, 0, -1, -1,  3, -1,  0, -1],\n",
    "              [-1,-2, -1, -1, -2, -1, -1, -1]])\n",
    "\n",
    "sum_lines = [0,2,0,0,5,0,3,0]\n",
    "sum_cols  = [0,2,0,0,5,0,3,0]\n",
    "\n",
    "arrete_choice(A, sum_lines)"
   ]
  },
  {
   "cell_type": "markdown",
   "id": "020be85f",
   "metadata": {},
   "source": [
    "### 1.d"
   ]
  },
  {
   "cell_type": "code",
   "execution_count": 552,
   "id": "d92c91ac",
   "metadata": {},
   "outputs": [],
   "source": [
    "def Karger(M, verbose= False) :\n",
    "    # Show the resulting list\n",
    "    def print_fusion(fusion):\n",
    "        for i in range(len(fusion)):\n",
    "            if len(fusion[i])>0:\n",
    "                print(fusion[i])\n",
    "    \n",
    "    # Init\n",
    "    A = M.copy()\n",
    "    fusion = [[i] for i in range(A.shape[0])]\n",
    "    \n",
    "    \n",
    "    sum_lines = np.sum(A,axis=1)\n",
    "    nb_vertex = A.shape[0]\n",
    "    \n",
    "    if verbose: \n",
    "        print(\"---\")\n",
    "        print(\"DEBUG\")\n",
    "        print(\"---\")\n",
    "        print(A)\n",
    "        print(sum_lines)\n",
    "    # While the number of vertex is higher than 2\n",
    "    while nb_vertex > 2 :\n",
    "        # An inner loop to avoid choosing an edge that has\n",
    "        # a negative value in the adjacency matrix\n",
    "        # This is taking a lot of time when the matrix is high dimensional\n",
    "        while True : \n",
    "            val,i,j = arrete_choice(A, sum_lines)\n",
    "            # print(val, i,j)\n",
    "            if val>0:\n",
    "                break\n",
    "        # realises a contraction on the edge (i,j)\n",
    "        A = contract(A,i,j)\n",
    "        \n",
    "        ## Update of the data structures\n",
    "        \n",
    "        # Append the merged vertex\n",
    "        for e in fusion[j]:\n",
    "            fusion[i].append(e)\n",
    "        fusion[j] = []\n",
    "        \n",
    "        # Update the sum_lines list\n",
    "        #sum_lines[i] += sum_lines[j] - val\n",
    "        sum_lines[i] += sum_lines[j]\n",
    "        sum_lines[i] -= 2*val\n",
    "        sum_lines[j] = 0\n",
    "        # We have merged two vertex\n",
    "        nb_vertex-=1\n",
    "        # Log\n",
    "        if verbose:\n",
    "            print(i,j)\n",
    "            print(A)\n",
    "            print(\"sommets: \",nb_vertex)\n",
    "            print(\"somme ligne :\", sum_lines)\n",
    "            \n",
    "    if verbose :\n",
    "        print_fusion(fusion)\n",
    "    \n",
    "    S = []\n",
    "    for i in range(len(fusion)):\n",
    "        if len(fusion[i])>0:\n",
    "            S.append(fusion[i])\n",
    "    \n",
    "    coupure = A[A>0][0]\n",
    "    \n",
    "    return S, coupure\n",
    "\n",
    "# I think I found the bug\n",
    "# In fact, I shouldn't be choosing the points where \n",
    "# the line/column has already been \"removed\" or put to -1"
   ]
  },
  {
   "cell_type": "code",
   "execution_count": 559,
   "id": "6ef8cedd",
   "metadata": {},
   "outputs": [
    {
     "name": "stdout",
     "output_type": "stream",
     "text": [
      "V : [[4, 0, 1, 3, 2], [5]]\n",
      "The cut returned by Karger Algorithm : 1\n"
     ]
    }
   ],
   "source": [
    "S, cut = Karger(M)\n",
    "print(\"V :\", S)\n",
    "print(\"The cut returned by Karger Algorithm :\", cut)"
   ]
  },
  {
   "cell_type": "code",
   "execution_count": 581,
   "id": "2863a609",
   "metadata": {
    "scrolled": true
   },
   "outputs": [
    {
     "data": {
      "text/plain": [
       "([[3, 2, 0, 1], [7, 6, 5, 4]], 2)"
      ]
     },
     "execution_count": 581,
     "metadata": {},
     "output_type": "execute_result"
    }
   ],
   "source": [
    "Karger(M2)\n",
    "# I think I found the issue,\n",
    "# The condition of returning a positive value\n",
    "# takes a lot of time to find it"
   ]
  },
  {
   "cell_type": "markdown",
   "id": "d101bf52",
   "metadata": {},
   "source": [
    "### 1.e"
   ]
  },
  {
   "cell_type": "markdown",
   "id": "1987a87b",
   "metadata": {},
   "source": [
    "La deuxième structure de données pour laquelle nous avons opté est la liste d'adjacence."
   ]
  },
  {
   "cell_type": "code",
   "execution_count": null,
   "id": "7212b436",
   "metadata": {},
   "outputs": [],
   "source": [
    "\"\"\"\n",
    "G = {1:[2,3],\n",
    "    2:[1,3,4],\n",
    "    3:[1,2,4],\n",
    "    4:[2,3]}\n",
    "\"\"\""
   ]
  },
  {
   "cell_type": "code",
   "execution_count": 582,
   "id": "3c757ab6",
   "metadata": {},
   "outputs": [
    {
     "name": "stdout",
     "output_type": "stream",
     "text": [
      "Running Karger one time:  ([4, 3, 8, 7, 6, 1, 2], 2)\n"
     ]
    }
   ],
   "source": [
    "#input can be any adjacency list in a text file\n",
    "data = open(\"testCase.txt\", \"r\")\n",
    "G = {}\n",
    "for line in data:\n",
    "    lst = [int(s) for s in line.split()]  # creates a list for each line of text file\n",
    "    G[lst[0]] = lst[1:]  # adds the list for one vertex to the entire adj list in G\n",
    "    # The code that creates an adjacency list from a text file(lines 6-10) were done with help from online resources\n",
    "    \n",
    "def choose_random_key(G):\n",
    "    a = random.choice(list(G.keys()))  # picks a random vertex\n",
    "    b = random.choice(list(G[a]))      # picks a random edge in the adjacency list\n",
    "    return a, b\n",
    "\n",
    "def contract_2(G,a,b):\n",
    "    # Contraction in the case of list of adjacency representation\n",
    "    G[a].extend(G[b])  # copies all items Linear time\n",
    "    \n",
    "    for x in G[b]:\n",
    "        G[x].remove(b)  # remove the other occurrences of b in adjacency list\n",
    "        G[x].append(a)  # tell them to look at a instead\n",
    "\n",
    "    while a in G[a]:\n",
    "        G[a].remove(a)  # remove self loops\n",
    "\n",
    "    del G[b]  # getting rid of the empty vertex from the adj list\n",
    "    \n",
    "    return G\n",
    "\n",
    "\n",
    "\n",
    "def Karger_2(G):\n",
    "    \n",
    "    A = G.copy()\n",
    "    \n",
    "    S = dict.fromkeys(A.keys(),[])\n",
    "    S2 = []\n",
    "    while len(A) > 2:\n",
    "        a, b = choose_random_key(A)  # the nodes that are part of the random edge\n",
    "        \n",
    "        A = contract_2(A,a,b)\n",
    "        \n",
    "        S[a].append(b)\n",
    "        # Debug\n",
    "        # print(a,b)\n",
    "        # print(G)\n",
    "    S2.append(a)\n",
    "    S2 = S2 + S[a]\n",
    "    \n",
    "    return S2,len(A[a])  # length of either vertex is same so just picked a\n",
    "\n",
    "\"\"\"\n",
    "def multipleKarger(iterations):\n",
    "    i = 0\n",
    "    count = 10000000000  # a very large number that isn't a possible mincut\n",
    "    while i < iterations:\n",
    "        data = copy.deepcopy(G)  # this way don't have to reread the txt file\n",
    "        min_cut = karger(data)\n",
    "        if min_cut < count:\n",
    "            count = min_cut\n",
    "        i = i + 1\n",
    "    return count\n",
    "\n",
    "\"\"\"\n",
    "\n",
    "\n",
    "print(\"Running Karger one time: \", Karger_2(G))"
   ]
  },
  {
   "cell_type": "markdown",
   "id": "408bfad5",
   "metadata": {},
   "source": [
    "### 1.f"
   ]
  },
  {
   "cell_type": "markdown",
   "id": "dc6f7b12",
   "metadata": {},
   "source": [
    "Pour effectuer le tirage aléatoire en dans le cas d'une représentation du graphe G avec une liste d'adjacence, il suffit de choisir aléatoirement de manière uniforme une clé (ie un sommet) parmi les soommets du graphe (ceci se fait en temps linaire), de même on accède à la liste d'adjacence du sommet selectionné (en temps constant), puis on tire aléatoirement un sommet dans cette liste (en temps linéaire également)."
   ]
  },
  {
   "cell_type": "markdown",
   "id": "b48c04b5",
   "metadata": {},
   "source": [
    "-------"
   ]
  },
  {
   "cell_type": "markdown",
   "id": "96f4057f",
   "metadata": {},
   "source": [
    "---"
   ]
  },
  {
   "cell_type": "markdown",
   "id": "ba1114f2",
   "metadata": {},
   "source": [
    "## Exercice 02:"
   ]
  },
  {
   "cell_type": "markdown",
   "id": "05ef341c",
   "metadata": {},
   "source": [
    "### 2.a \n",
    "<b>Réalisation d'une étude expérimentale de la probabilité de succés des implémentations de l'exercice 01</b>\n",
    "\n",
    "L'étude consiste à exécuter plusieurs fois l'algorithme de Karger implémenté en question 01 sur des familles de graphes différentes et pour lesquelles on connait la taille d'une coupe minimale, et de calculer la probabilité de succès de l'algorithme.\n",
    "\n",
    "Prenons l'exemple du graphe G suivant représenté par sa matrice d'adjacence M :\n",
    "\n",
    "$\\begin{bmatrix}\n",
    "0 & 1 & 1 & 0 & 0 & 0\\\\ \n",
    "1 & 0 & 0 & 1 & 1 & 0\\\\ \n",
    "1 & 0 & 0 & 1 & 0 & 0\\\\\n",
    "0 & 1 & 1 & 0 & 1 & 0\\\\ \n",
    "0 & 1 & 0 & 1 & 0 & 1\\\\ \n",
    "0 & 0 & 0 & 0 & 1 & 0\n",
    "\\end{bmatrix}$\n",
    "\n",
    "La taille de la coupe minimale est : 1\n",
    "\n",
    "Cette coupe correspond aux deux sous ensembles de sommets {1,2,3,4,5} et {6}"
   ]
  },
  {
   "cell_type": "markdown",
   "id": "902cc57e",
   "metadata": {},
   "source": [
    "Prenons l'exemple du graphe M2 (vu en cours) suivant représenté par sa matrice d'adjacence M :\n",
    "\n",
    "$\\begin{bmatrix}\n",
    "0 & 1 & 1 & 1 & 0 & 0 & 0 & 0 \\\\\n",
    "1 & 0 & 1 & 1 & 1 & 0 & 0 & 0 \\\\\n",
    "1 & 1 & 0 & 1 & 1 & 0 & 0 & 0 \\\\\n",
    "1 & 1 & 1 & 0 & 0 & 0 & 0 & 0 \\\\\n",
    "0 & 1 & 1 & 0 & 0 & 1 & 1 & 1 \\\\\n",
    "0 & 0 & 0 & 0 & 1 & 0 & 1 & 1 \\\\\n",
    "0 & 0 & 0 & 0 & 1 & 1 & 0 & 1 \\\\\n",
    "0 & 0 & 0 & 0 & 1 & 1 & 1 & 0\n",
    "\\end{bmatrix}$\n",
    "\n",
    "La taille de la coupe minimale est : 2\n",
    "\n",
    "Cette coupe correspond aux deux sous ensembles de sommets {1,2,3,4} et {5,6,7,8}"
   ]
  },
  {
   "cell_type": "code",
   "execution_count": 583,
   "id": "3906da9f",
   "metadata": {},
   "outputs": [],
   "source": [
    "M = np.array([[0,1,1,0,0,0],\n",
    "              [1,0,0,1,1,0],\n",
    "              [1,0,0,1,0,0],\n",
    "              [0,1,1,0,1,0],\n",
    "              [0,1,0,1,0,1],\n",
    "              [0,0,0,0,1,0]])\n",
    "\n",
    "M2 = np.array([[0,1,1,1,0,0,0,0],\n",
    "               [1,0,1,1,1,0,0,0],\n",
    "               [1,1,0,1,1,0,0,0],\n",
    "               [1,1,1,0,0,0,0,0],\n",
    "               [0,1,1,0,0,1,1,1],\n",
    "               [0,0,0,0,1,0,1,1],\n",
    "               [0,0,0,0,1,1,0,1],\n",
    "               [0,0,0,0,1,1,1,0]])"
   ]
  },
  {
   "cell_type": "code",
   "execution_count": 584,
   "id": "a55f233d",
   "metadata": {},
   "outputs": [],
   "source": [
    "def p_succes(G, min_cut, T=10000):\n",
    "    n = 0\n",
    "    for i in range(T):\n",
    "        _, m = Karger(G)\n",
    "        n += 1 if m==min_cut else 0\n",
    "    return (n/T)*100"
   ]
  },
  {
   "cell_type": "code",
   "execution_count": 588,
   "id": "1900f8ba",
   "metadata": {},
   "outputs": [
    {
     "data": {
      "text/plain": [
       "38.2"
      ]
     },
     "execution_count": 588,
     "metadata": {},
     "output_type": "execute_result"
    }
   ],
   "source": [
    "p_succes(M,min_cut=1)"
   ]
  },
  {
   "cell_type": "code",
   "execution_count": 589,
   "id": "54b11839",
   "metadata": {},
   "outputs": [
    {
     "data": {
      "text/plain": [
       "21.27"
      ]
     },
     "execution_count": 589,
     "metadata": {},
     "output_type": "execute_result"
    }
   ],
   "source": [
    "p_succes(M2,min_cut=2)"
   ]
  },
  {
   "cell_type": "markdown",
   "id": "12682312",
   "metadata": {},
   "source": [
    "### 2.b "
   ]
  },
  {
   "cell_type": "code",
   "execution_count": 594,
   "id": "ffbca31f",
   "metadata": {},
   "outputs": [],
   "source": [
    "def KargerItere(M,T=1000):\n",
    "    i = 0\n",
    "    min_cut = np.inf\n",
    "    S = []\n",
    "    \n",
    "    for i in range(T):\n",
    "        S1, m = Karger(M)\n",
    "        if m<min_cut:\n",
    "            min_cut = m\n",
    "            S = S1\n",
    "    \n",
    "    return S, min_cut"
   ]
  },
  {
   "cell_type": "code",
   "execution_count": 595,
   "id": "2e093d02",
   "metadata": {},
   "outputs": [
    {
     "data": {
      "text/plain": [
       "([[0, 3, 2, 1], [7, 4, 5, 6]], 2)"
      ]
     },
     "execution_count": 595,
     "metadata": {},
     "output_type": "execute_result"
    }
   ],
   "source": [
    "KargerItere(M2)"
   ]
  },
  {
   "cell_type": "markdown",
   "id": "c9cda932",
   "metadata": {},
   "source": [
    "---"
   ]
  },
  {
   "cell_type": "markdown",
   "id": "d70c107b",
   "metadata": {},
   "source": [
    "## Exercice 03:"
   ]
  },
  {
   "cell_type": "code",
   "execution_count": null,
   "id": "a0660259",
   "metadata": {},
   "outputs": [],
   "source": [
    "def ContractionPartielle(G, t):\n",
    "    "
   ]
  }
 ],
 "metadata": {
  "kernelspec": {
   "display_name": "Python 3 (ipykernel)",
   "language": "python",
   "name": "python3"
  },
  "language_info": {
   "codemirror_mode": {
    "name": "ipython",
    "version": 3
   },
   "file_extension": ".py",
   "mimetype": "text/x-python",
   "name": "python",
   "nbconvert_exporter": "python",
   "pygments_lexer": "ipython3",
   "version": "3.10.0"
  }
 },
 "nbformat": 4,
 "nbformat_minor": 5
}
