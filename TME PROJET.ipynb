{
 "cells": [
  {
   "cell_type": "code",
   "execution_count": 218,
   "id": "15bd6083",
   "metadata": {},
   "outputs": [],
   "source": [
    "import numpy as np\n",
    "import pandas as pd\n",
    "import matplotlib.pyplot as plt\n",
    "import random, copy\n",
    "import time"
   ]
  },
  {
   "cell_type": "code",
   "execution_count": 156,
   "id": "a9d72e2e",
   "metadata": {},
   "outputs": [],
   "source": [
    "M = np.array([[0,1,1,0,0,0],\n",
    "              [1,0,0,1,1,0],\n",
    "              [1,0,0,1,0,0],\n",
    "              [0,1,1,0,1,0],\n",
    "              [0,1,0,1,0,1],\n",
    "              [0,0,0,0,1,0]])\n",
    "\n",
    "M2 = np.array([[0,1,1,1,0,0,0,0],\n",
    "               [1,0,1,1,1,0,0,0],\n",
    "               [1,1,0,1,1,0,0,0],\n",
    "               [1,1,1,0,0,0,0,0],\n",
    "               [0,1,1,0,0,1,1,1],\n",
    "               [0,0,0,0,1,0,1,1],\n",
    "               [0,0,0,0,1,1,0,1],\n",
    "               [0,0,0,0,1,1,1,0]])"
   ]
  },
  {
   "cell_type": "markdown",
   "id": "3df6a24e",
   "metadata": {},
   "source": [
    "### 1.a"
   ]
  },
  {
   "cell_type": "markdown",
   "id": "474e82a6",
   "metadata": {},
   "source": [
    "- Le multi graphe G est représenté par une matrice d'adjacence.\n",
    "- Pour réaliser l'opération de contraction d'une arête (i,j), on réalise les traitements suivants\n",
    "sur la matrice d'adjacence représentant le graphe G:<br>\n",
    "- Ajouter à la ligne et colonne du sommet i, la ligne et colonne du sommmet j <br>\n",
    "- Suprimer la ligne et la colonne correspondants au sommet j (car a été fusionné avec le sommet i pour construire un nouvel ensemble."
   ]
  },
  {
   "cell_type": "code",
   "execution_count": 23,
   "id": "15d13cfc",
   "metadata": {},
   "outputs": [],
   "source": [
    "def contract(A,i,j):\n",
    "    \"\"\"\n",
    "    Realise the contraction in the graph M represented by its adjancency matrix\n",
    "    \"\"\"\n",
    "    li = A[i,:]\n",
    "    lj = A[j,:]\n",
    "    ci = A[:,i]\n",
    "    cj = A[:,j]\n",
    "\n",
    "    A[i,:] = li + lj\n",
    "    A[:,i] = ci + cj\n",
    "\n",
    "    A[i,i] = 0\n",
    "\n",
    "    A[j,:] = -1\n",
    "    A[:,j] = -1\n",
    "    \n",
    "    return A"
   ]
  },
  {
   "cell_type": "markdown",
   "id": "d781793e",
   "metadata": {},
   "source": [
    "### 1.b"
   ]
  },
  {
   "cell_type": "code",
   "execution_count": 256,
   "id": "38f1dd21",
   "metadata": {},
   "outputs": [],
   "source": [
    "def create_graph(n_vertex,ty = \"random\"):\n",
    "    shape = (n_vertex,n_vertex)\n",
    "    if ty==\"random\":\n",
    "        # Not a wise implementation\n",
    "        # Adjacency matrix needs to be symmetric to diago\n",
    "        M = np.random.randint(0,2,(shape))\n",
    "        for i in range(n_vertex):\n",
    "            for j in range(n_vertex):\n",
    "                M[j,i] = M[i,j]\n",
    "        np.fill_diagonal(M,0)\n",
    "    elif ty==\"complete\":\n",
    "        M = np.ones(shape)\n",
    "        np.fill_diagonal(M,0)\n",
    "    elif ty==\"biparti\":\n",
    "        n = n_vertex//2\n",
    "        A = np.concatenate((np.zeros((n,n)), np.ones((n,n))), axis=0)\n",
    "        B = np.concatenate((np.ones((n,n)), np.zeros((n,n))), axis=0)\n",
    "        M = np.concatenate((A,B), axis=1)\n",
    "    return M.astype(int)"
   ]
  },
  {
   "cell_type": "code",
   "execution_count": 257,
   "id": "9d59033b",
   "metadata": {},
   "outputs": [],
   "source": [
    "G_random = create_graph(6,ty=\"random\")\n",
    "G_complete = create_graph(6,ty=\"complete\")\n",
    "G_biparti = create_graph(6,ty=\"biparti\")"
   ]
  },
  {
   "cell_type": "markdown",
   "id": "7d299ac8",
   "metadata": {},
   "source": [
    "### 1.c"
   ]
  },
  {
   "cell_type": "markdown",
   "id": "8941a2bc",
   "metadata": {},
   "source": [
    "le graphe G est possiblement devenu un multi-graphe avec plusieurs arêtes entre deux sommets.\n",
    "Dans notre analyse théorique de la complexité de l'algorithme de Karger, nous avons supposée\n",
    "que l'arêtes e de l'opération de sélection aléeatoire dans la boucle tant que est\n",
    "tirée uniformement aléatoirement parmi toutes les arêtes possibles. \n",
    "\n",
    "Pour effectuer ce tirage aléatoire lorsque le multi-graphe G est représenté par une matrice d'adjacence, on réalise les étapes suivantes :\n",
    "\n",
    "Etant donnée une liste somme_ligne de tailles nombre de sommets dans le graphe G, et contenant dans chaque case le nombre de sommmets par ligne dans la matrice d'adjacence :\n",
    "\n",
    "Exemple :\n",
    "\n",
    "Pour la matrice  $\\begin{bmatrix}\n",
    "0 & 1 & 1\\\\ \n",
    "1 & 0 & 1\\\\ \n",
    "1 & 0 & 0\n",
    "\\end{bmatrix}$ on retrouve la liste : $\\begin{bmatrix}\n",
    "2 & 2 & 1\n",
    "\\end{bmatrix}$\n",
    "\n",
    "Donc, pour choisir aléatoirement selon une loi uniforme une arête parmi toutes les arêtes du graphe, on tire un nombre aléatoire entre 1 et le nombre d'arêtes du graphe G (qui n'est rien d'autre que la somme des éléments de la liste sommme_liste).\n",
    "\n",
    "Soit a le numéro de l'arête qu'on a tiré précédemment, en utilisant la somme cummulée des éléments de la liste somme_ligne, on peut reperer la ligne ou se trouve cette arête. Cette étape se réalise en temps linéaire O(n) dans le pire des cas.\n",
    "\n",
    "De même pour la colonne, on fait la somme cummulé et on retrouve le numéro de colonne. Cette étape se réalise également en temps linéaire O(n) dans le pire des cas.\n",
    "\n",
    "A la fin de cette procédure, on retourne une l'indice de l'arête (i,j) tiré aléatoirement du graphe G en temps linéaire.\n"
   ]
  },
  {
   "cell_type": "code",
   "execution_count": 6,
   "id": "56c0bfad",
   "metadata": {},
   "outputs": [],
   "source": [
    "# Implémentation de la fonction de tirage aléatoire d'arête\n",
    "# Random choice\n",
    "def arrete_choice(M, sum_lines) :\n",
    "    \"\"\"\n",
    "    Chooses a random edge from the multi graph G\n",
    "    represented by its adjacency matrix\n",
    "        M : Adjacency matrix\n",
    "        somme_ligne : list containing number of edges per line in M\n",
    "    returns :\n",
    "        M[i,j],i,j\n",
    "    \"\"\"\n",
    "    # Pick up up a random number of edge\n",
    "    nb_arrete = np.sum(sum_lines)\n",
    "    random_arrete = np.random.randint(nb_arrete)\n",
    "    \n",
    "    # Find in linear time the line index of that edge\n",
    "    cumul = 0\n",
    "    for i in range(len(sum_lines)) :\n",
    "        cumul += sum_lines[i]\n",
    "        if cumul > random_arrete :\n",
    "            break\n",
    "    \n",
    "    # Find in linear time the column index of that edge\n",
    "    j = random_arrete - (cumul - sum_lines[i])\n",
    "    cumul = 0\n",
    "    for k in range(M.shape[1]) :\n",
    "        cumul += M[i,k] if M[i,k]>0 else 0\n",
    "        if cumul > j :\n",
    "            break\n",
    "\n",
    "    return M[i,k],i,k"
   ]
  },
  {
   "cell_type": "code",
   "execution_count": 7,
   "id": "4fd521ba",
   "metadata": {},
   "outputs": [
    {
     "data": {
      "text/plain": [
       "(3, 6, 4)"
      ]
     },
     "execution_count": 7,
     "metadata": {},
     "output_type": "execute_result"
    }
   ],
   "source": [
    "A = np.array([[-1,-2, -1, -1, -3, -1, -1, -1],\n",
    "              [-2, 0, -1, -3,  2, -2,  0, -2],\n",
    "              [-1,-1, -1, -1, -1, -1, -1, -1],\n",
    "              [-1,-3, -1, -1, -3, -1, -1, -1],\n",
    "              [-3, 2, -1, -3,  0, -1,  3, -2],\n",
    "              [-1,-2, -1, -1, -1, -1, -1, -1],\n",
    "              [-1, 0, -1, -1,  3, -1,  0, -1],\n",
    "              [-1,-2, -1, -1, -2, -1, -1, -1]])\n",
    "\n",
    "sum_lines = [0,2,0,0,5,0,3,0]\n",
    "sum_cols  = [0,2,0,0,5,0,3,0]\n",
    "\n",
    "arrete_choice(A, sum_lines)"
   ]
  },
  {
   "cell_type": "markdown",
   "id": "020be85f",
   "metadata": {},
   "source": [
    "### 1.d"
   ]
  },
  {
   "cell_type": "code",
   "execution_count": 260,
   "id": "d92c91ac",
   "metadata": {},
   "outputs": [],
   "source": [
    "def Karger(M, verbose= False, len_cut = True) :\n",
    "    # Show the resulting list\n",
    "    def print_fusion(fusion):\n",
    "        for i in range(len(fusion)):\n",
    "            if len(fusion[i])>0:\n",
    "                print(fusion[i])\n",
    "    \n",
    "    # Init\n",
    "    A = M.copy()\n",
    "    fusion = [[i] for i in range(A.shape[0])]\n",
    "    \n",
    "    \n",
    "    sum_lines = np.sum(A,axis=1)\n",
    "    nb_vertex = A.shape[0]\n",
    "    \n",
    "    if verbose: \n",
    "        print(\"---\")\n",
    "        print(\"DEBUG\")\n",
    "        print(\"---\")\n",
    "        print(A)\n",
    "        print(sum_lines)\n",
    "    # While the number of vertex is higher than 2\n",
    "    while nb_vertex > 2 :\n",
    "        # An inner loop to avoid choosing an edge that has\n",
    "        # a negative value in the adjacency matrix\n",
    "        # This is taking a lot of time when the matrix is high dimensional\n",
    "        while True : \n",
    "            val,i,j = arrete_choice(A, sum_lines)\n",
    "            # print(val, i,j)\n",
    "            if val>0:\n",
    "                break\n",
    "        # realises a contraction on the edge (i,j)\n",
    "        A = contract(A,i,j)\n",
    "        \n",
    "        ## Update of the data structures\n",
    "        \n",
    "        # Append the merged vertex\n",
    "        for e in fusion[j]:\n",
    "            fusion[i].append(e)\n",
    "        fusion[j] = []\n",
    "        \n",
    "        # Update the sum_lines list\n",
    "        #sum_lines[i] += sum_lines[j] - val\n",
    "        sum_lines[i] += sum_lines[j]\n",
    "        sum_lines[i] -= 2*val\n",
    "        sum_lines[j] = 0\n",
    "        # We have merged two vertex\n",
    "        nb_vertex-=1\n",
    "        # Log\n",
    "        if verbose:\n",
    "            print(i,j)\n",
    "            print(A)\n",
    "            print(\"sommets: \",nb_vertex)\n",
    "            print(\"somme ligne :\", sum_lines)\n",
    "            \n",
    "    if verbose :\n",
    "        print_fusion(fusion)\n",
    "    \n",
    "    S = []\n",
    "    for i in range(len(fusion)):\n",
    "        if len(fusion[i])>0:\n",
    "            S.append(fusion[i])\n",
    "    \n",
    "    coupure = A[A>0][0]\n",
    "\n",
    "    \n",
    "    if len_cut:\n",
    "        return S[0], coupure\n",
    "    return S[0]\n",
    "\n",
    "# I think I found the bug\n",
    "# In fact, I shouldn't be choosing the points where \n",
    "# the line/column has already been \"removed\" or put to -1"
   ]
  },
  {
   "cell_type": "code",
   "execution_count": 261,
   "id": "6ef8cedd",
   "metadata": {},
   "outputs": [
    {
     "name": "stdout",
     "output_type": "stream",
     "text": [
      "S1 : [2, 0]\n",
      "The cut returned by Karger Algorithm : 2\n"
     ]
    }
   ],
   "source": [
    "S, cut = Karger(M)\n",
    "print(\"S1 :\", S)\n",
    "print(\"The cut returned by Karger Algorithm :\", cut)"
   ]
  },
  {
   "cell_type": "code",
   "execution_count": 263,
   "id": "2863a609",
   "metadata": {
    "scrolled": true
   },
   "outputs": [
    {
     "data": {
      "text/plain": [
       "array([[0, 1, 0, ..., 1, 0, 1],\n",
       "       [1, 0, 0, ..., 1, 0, 1],\n",
       "       [0, 0, 0, ..., 1, 1, 0],\n",
       "       ...,\n",
       "       [1, 1, 1, ..., 0, 0, 1],\n",
       "       [0, 0, 1, ..., 0, 0, 1],\n",
       "       [1, 1, 0, ..., 1, 1, 0]])"
      ]
     },
     "execution_count": 263,
     "metadata": {},
     "output_type": "execute_result"
    }
   ],
   "source": [
    "G = create_graph(100,ty=\"random\")\n",
    "G"
   ]
  },
  {
   "cell_type": "markdown",
   "id": "17ba17e6",
   "metadata": {},
   "source": [
    "---"
   ]
  },
  {
   "cell_type": "markdown",
   "id": "5493bf18",
   "metadata": {},
   "source": [
    "### Analyse de la complexité de l'algorithme de Karger implémenté en utilisant une représentation par matrice d'adjacence"
   ]
  },
  {
   "cell_type": "markdown",
   "id": "12ce8745",
   "metadata": {},
   "source": [
    "#### Schéma expérimental:\n",
    "- Génération aléatoire d'exemple de taille différente\n",
    "- Exécution de l'algorithme de Karger sur les instances générés\n",
    "- Evaluation du temps d'exécution obtenu"
   ]
  },
  {
   "cell_type": "code",
   "execution_count": 275,
   "id": "36d5eb1a",
   "metadata": {},
   "outputs": [
    {
     "data": {
      "image/png": "[encoded data removed]",
      "text/plain": [
       "<Figure size 432x288 with 1 Axes>"
      ]
     },
     "metadata": {
      "needs_background": "light"
     },
     "output_type": "display_data"
    }
   ],
   "source": [
    "# Cas de graphe complet à n sommets\n",
    "\n",
    "exec_times = []\n",
    "for n in range(5, 105, 5):\n",
    "    t = 0\n",
    "    for it in range(100):\n",
    "        G = create_graph(n, ty=\"complete\")\n",
    "        tic = time.time()\n",
    "        _,_ = Karger(G)\n",
    "        tac = time.time()\n",
    "        t+= (tac-tic)\n",
    "    exec_times.append(t/n)\n",
    "\n",
    "# Plot the execution time\n",
    "abc = np.arange(5,105,5)\n",
    "plt.plot(abc, exec_times, \"g\")\n",
    "\n",
    "# Add titles and labels\n",
    "plt.title('Execution time for Karger min cut algorithm')\n",
    "plt.xlabel('vertices number')\n",
    "plt.ylabel('Time')\n",
    "\n",
    "# Show the figure\n",
    "plt.show()"
   ]
  },
  {
   "cell_type": "code",
   "execution_count": 273,
   "id": "82f12730",
   "metadata": {},
   "outputs": [
    {
     "data": {
      "image/png": "[encoded data removed]",
      "text/plain": [
       "<Figure size 432x288 with 1 Axes>"
      ]
     },
     "metadata": {
      "needs_background": "light"
     },
     "output_type": "display_data"
    }
   ],
   "source": [
    "exec_times = []\n",
    "for n in range(5, 105, 5):\n",
    "    t = 0\n",
    "    for it in range(100):\n",
    "        G = create_graph(n, ty=\"biparti\")\n",
    "        tic = time.time()\n",
    "        _,_ = Karger(G)\n",
    "        tac = time.time()\n",
    "        t+= (tac-tic)\n",
    "    exec_times.append(t/n)\n",
    "\n",
    "# Plotting the execution time\n",
    "abc = np.arange(5,105,5)\n",
    "plt.plot(abc, np.log(exec_times), \"r\")\n",
    "\n",
    "# Add titles and labels\n",
    "plt.title('Execution time for Karger min cut algorithm')\n",
    "plt.xlabel('vertices number')\n",
    "plt.ylabel('Time')\n",
    "\n",
    "# Show the figure\n",
    "plt.show()"
   ]
  },
  {
   "cell_type": "markdown",
   "id": "d101bf52",
   "metadata": {},
   "source": [
    "### 1.e"
   ]
  },
  {
   "cell_type": "markdown",
   "id": "1987a87b",
   "metadata": {},
   "source": [
    "La deuxième structure de données pour laquelle nous avons opté est la représentation par liste d'adjacence."
   ]
  },
  {
   "cell_type": "code",
   "execution_count": 11,
   "id": "7212b436",
   "metadata": {},
   "outputs": [
    {
     "data": {
      "text/plain": [
       "'\\nG = {1:[2,3],\\n    2:[1,3,4],\\n    3:[1,2,4],\\n    4:[2,3]}\\n'"
      ]
     },
     "execution_count": 11,
     "metadata": {},
     "output_type": "execute_result"
    }
   ],
   "source": [
    "\"\"\"\n",
    "G = {1:[2,3],\n",
    "    2:[1,3,4],\n",
    "    3:[1,2,4],\n",
    "    4:[2,3]}\n",
    "\"\"\""
   ]
  },
  {
   "cell_type": "code",
   "execution_count": 277,
   "id": "3c757ab6",
   "metadata": {},
   "outputs": [
    {
     "name": "stdout",
     "output_type": "stream",
     "text": [
      "Running Karger one time:  ([6, 8, 3, 7, 1, 2, 5], 4)\n"
     ]
    }
   ],
   "source": [
    "#input can be any adjacency list in a text file\n",
    "data = open(\"testCase.txt\", \"r\")\n",
    "G = {}\n",
    "for line in data:\n",
    "    lst = [int(s) for s in line.split()]  # creates a list for each line of text file\n",
    "    G[lst[0]] = lst[1:]  # adds the list for one vertex to the entire adj list in G\n",
    "    # The code that creates an adjacency list from a text file(lines 6-10) were done with help from online resources\n",
    "    \n",
    "def choose_random_key(G):\n",
    "    a = random.choice(list(G.keys()))  # picks a random vertex\n",
    "    b = random.choice(list(G[a]))      # picks a random edge in the adjacency list\n",
    "    return a, b\n",
    "\n",
    "def contract_2(G,a,b):\n",
    "    # Contraction in the case of list of adjacency representation\n",
    "    G[a].extend(G[b])  # copies all items Linear time\n",
    "    \n",
    "    for x in G[b]:\n",
    "        G[x].remove(b)  # remove the other occurrences of b in adjacency list\n",
    "        G[x].append(a)  # tell them to look at a instead\n",
    "\n",
    "    while a in G[a]:\n",
    "        G[a].remove(a)  # remove self loops\n",
    "\n",
    "    del G[b]  # getting rid of the empty vertex from the adj list\n",
    "    \n",
    "    return G\n",
    "\n",
    "\n",
    "def Karger_2(G):\n",
    "    \n",
    "    A = G.copy()\n",
    "    \n",
    "    S = dict.fromkeys(A.keys(),[])\n",
    "    S2 = []\n",
    "    while len(A) > 2:\n",
    "        a, b = choose_random_key(A)  # the nodes that are part of the random edge\n",
    "        \n",
    "        A = contract_2(A,a,b)\n",
    "        \n",
    "        S[a].append(b)\n",
    "        # Debug\n",
    "        # print(a,b)\n",
    "        # print(G)\n",
    "    S2.append(a)\n",
    "    S2 = S2 + S[a]\n",
    "    \n",
    "    return S2,len(A[a])  # length of either vertex is same so just picked a\n",
    "\n",
    "print(\"Running Karger one time: \", Karger_2(G))"
   ]
  },
  {
   "cell_type": "markdown",
   "id": "408bfad5",
   "metadata": {},
   "source": [
    "### 1.f"
   ]
  },
  {
   "cell_type": "markdown",
   "id": "dc6f7b12",
   "metadata": {},
   "source": [
    "Pour effectuer le tirage aléatoire en dans le cas d'une représentation du graphe G avec une liste d'adjacence, il suffit de choisir aléatoirement de manière uniforme une clé (ie un sommet) parmi les soommets du graphe (ceci se fait en temps linaire), de même on accède à la liste d'adjacence du sommet selectionné (en temps constant), puis on tire aléatoirement un sommet dans cette liste (en temps linéaire également)."
   ]
  },
  {
   "cell_type": "markdown",
   "id": "4c2be1f5",
   "metadata": {},
   "source": [
    "### 1.i"
   ]
  },
  {
   "cell_type": "code",
   "execution_count": 280,
   "id": "e488267c",
   "metadata": {},
   "outputs": [],
   "source": [
    "M = np.array([[0,1,1,0,0,0],\n",
    "              [1,0,0,1,1,0],\n",
    "              [1,0,0,1,0,0],\n",
    "              [0,1,1,0,1,0],\n",
    "              [0,1,0,1,0,1],\n",
    "              [0,0,0,0,1,0]])\n",
    "\n",
    "W = np.array([[0,3,1,0,0,0],\n",
    "              [3,0,0,1,1,0],\n",
    "              [1,0,0,10,0,0],\n",
    "              [0,1,10,0,1,0],\n",
    "              [0,1,0,1,0,20],\n",
    "              [0,0,0,0,20,0]])\n",
    "\n",
    "P = W/np.sum(W)"
   ]
  },
  {
   "cell_type": "code",
   "execution_count": 314,
   "id": "9c4b44da",
   "metadata": {},
   "outputs": [
    {
     "name": "stdout",
     "output_type": "stream",
     "text": [
      "10 2 3\n"
     ]
    }
   ],
   "source": [
    "rng = np.random.choice(a = np.arange(M.shape[0]*M.shape[0]), p = np.ndarray.flatten(P))\n",
    "i = int(rng/M.shape[0])\n",
    "j = rng%M.shape[0]\n",
    "print(W[i,j], i, j)"
   ]
  },
  {
   "cell_type": "markdown",
   "id": "b48c04b5",
   "metadata": {},
   "source": [
    "-------"
   ]
  },
  {
   "cell_type": "markdown",
   "id": "96f4057f",
   "metadata": {},
   "source": [
    "---"
   ]
  },
  {
   "cell_type": "markdown",
   "id": "ba1114f2",
   "metadata": {},
   "source": [
    "## Exercice 02:"
   ]
  },
  {
   "cell_type": "markdown",
   "id": "05ef341c",
   "metadata": {},
   "source": [
    "### 2.a \n",
    "<b>Réalisation d'une étude expérimentale de la probabilité de succés des implémentations de l'exercice 01</b>\n",
    "\n",
    "L'étude consiste à exécuter plusieurs fois l'algorithme de Karger implémenté en question 01 sur des familles de graphes différentes et pour lesquelles on connait la taille d'une coupe minimale, et de calculer la probabilité de succès de l'algorithme.\n",
    "\n",
    "Prenons l'exemple du graphe G suivant représenté par sa matrice d'adjacence M :\n",
    "\n",
    "$\\begin{bmatrix}\n",
    "0 & 1 & 1 & 0 & 0 & 0\\\\ \n",
    "1 & 0 & 0 & 1 & 1 & 0\\\\ \n",
    "1 & 0 & 0 & 1 & 0 & 0\\\\\n",
    "0 & 1 & 1 & 0 & 1 & 0\\\\ \n",
    "0 & 1 & 0 & 1 & 0 & 1\\\\ \n",
    "0 & 0 & 0 & 0 & 1 & 0\n",
    "\\end{bmatrix}$\n",
    "\n",
    "La taille de la coupe minimale est : 1\n",
    "\n",
    "Cette coupe correspond aux deux sous ensembles de sommets {1,2,3,4,5} et {6}"
   ]
  },
  {
   "cell_type": "markdown",
   "id": "902cc57e",
   "metadata": {},
   "source": [
    "Prenons l'exemple du graphe M2 (vu en cours) suivant représenté par sa matrice d'adjacence M :\n",
    "\n",
    "$\\begin{bmatrix}\n",
    "0 & 1 & 1 & 1 & 0 & 0 & 0 & 0 \\\\\n",
    "1 & 0 & 1 & 1 & 1 & 0 & 0 & 0 \\\\\n",
    "1 & 1 & 0 & 1 & 1 & 0 & 0 & 0 \\\\\n",
    "1 & 1 & 1 & 0 & 0 & 0 & 0 & 0 \\\\\n",
    "0 & 1 & 1 & 0 & 0 & 1 & 1 & 1 \\\\\n",
    "0 & 0 & 0 & 0 & 1 & 0 & 1 & 1 \\\\\n",
    "0 & 0 & 0 & 0 & 1 & 1 & 0 & 1 \\\\\n",
    "0 & 0 & 0 & 0 & 1 & 1 & 1 & 0\n",
    "\\end{bmatrix}$\n",
    "\n",
    "La taille de la coupe minimale est : 2\n",
    "\n",
    "Cette coupe correspond aux deux sous ensembles de sommets {1,2,3,4} et {5,6,7,8}"
   ]
  },
  {
   "cell_type": "code",
   "execution_count": 583,
   "id": "3906da9f",
   "metadata": {},
   "outputs": [],
   "source": [
    "M = np.array([[0,1,1,0,0,0],\n",
    "              [1,0,0,1,1,0],\n",
    "              [1,0,0,1,0,0],\n",
    "              [0,1,1,0,1,0],\n",
    "              [0,1,0,1,0,1],\n",
    "              [0,0,0,0,1,0]])\n",
    "\n",
    "M2 = np.array([[0,1,1,1,0,0,0,0],\n",
    "               [1,0,1,1,1,0,0,0],\n",
    "               [1,1,0,1,1,0,0,0],\n",
    "               [1,1,1,0,0,0,0,0],\n",
    "               [0,1,1,0,0,1,1,1],\n",
    "               [0,0,0,0,1,0,1,1],\n",
    "               [0,0,0,0,1,1,0,1],\n",
    "               [0,0,0,0,1,1,1,0]])"
   ]
  },
  {
   "cell_type": "code",
   "execution_count": 584,
   "id": "a55f233d",
   "metadata": {},
   "outputs": [],
   "source": [
    "def p_succes(G, min_cut, T=10000):\n",
    "    n = 0\n",
    "    for i in range(T):\n",
    "        _, m = Karger(G)\n",
    "        n += 1 if m==min_cut else 0\n",
    "    return (n/T)*100"
   ]
  },
  {
   "cell_type": "code",
   "execution_count": 588,
   "id": "1900f8ba",
   "metadata": {},
   "outputs": [
    {
     "data": {
      "text/plain": [
       "38.2"
      ]
     },
     "execution_count": 588,
     "metadata": {},
     "output_type": "execute_result"
    }
   ],
   "source": [
    "p_succes(M,min_cut=1)"
   ]
  },
  {
   "cell_type": "code",
   "execution_count": 589,
   "id": "54b11839",
   "metadata": {},
   "outputs": [
    {
     "data": {
      "text/plain": [
       "21.27"
      ]
     },
     "execution_count": 589,
     "metadata": {},
     "output_type": "execute_result"
    }
   ],
   "source": [
    "p_succes(M2,min_cut=2)"
   ]
  },
  {
   "cell_type": "markdown",
   "id": "12682312",
   "metadata": {},
   "source": [
    "### 2.b "
   ]
  },
  {
   "cell_type": "code",
   "execution_count": 594,
   "id": "ffbca31f",
   "metadata": {},
   "outputs": [],
   "source": [
    "def KargerItere(M,T=1000):\n",
    "    i = 0\n",
    "    min_cut = np.inf\n",
    "    S = []\n",
    "    \n",
    "    for i in range(T):\n",
    "        S1, m = Karger(M)\n",
    "        if m<min_cut:\n",
    "            min_cut = m\n",
    "            S = S1\n",
    "    \n",
    "    return S, min_cut"
   ]
  },
  {
   "cell_type": "code",
   "execution_count": 595,
   "id": "2e093d02",
   "metadata": {},
   "outputs": [
    {
     "data": {
      "text/plain": [
       "([[0, 3, 2, 1], [7, 4, 5, 6]], 2)"
      ]
     },
     "execution_count": 595,
     "metadata": {},
     "output_type": "execute_result"
    }
   ],
   "source": [
    "KargerItere(M2)"
   ]
  },
  {
   "cell_type": "markdown",
   "id": "c9cda932",
   "metadata": {},
   "source": [
    "---"
   ]
  },
  {
   "cell_type": "markdown",
   "id": "d70c107b",
   "metadata": {},
   "source": [
    "## Exercice 03:"
   ]
  },
  {
   "cell_type": "markdown",
   "id": "e16f9672",
   "metadata": {},
   "source": [
    "### 3.d"
   ]
  },
  {
   "cell_type": "code",
   "execution_count": 189,
   "id": "a0660259",
   "metadata": {},
   "outputs": [
    {
     "data": {
      "text/plain": [
       "array([[0, 2, 0, 0],\n",
       "       [2, 0, 2, 0],\n",
       "       [0, 2, 0, 1],\n",
       "       [0, 0, 1, 0]])"
      ]
     },
     "execution_count": 189,
     "metadata": {},
     "output_type": "execute_result"
    }
   ],
   "source": [
    "def ContractionPartielle(G, t):\n",
    "    # Init\n",
    "    A = G.copy()\n",
    "    \n",
    "    sum_lines = np.sum(A,axis=1)\n",
    "    nb_vertex = A.shape[0]\n",
    "    \n",
    "    # While the number of vertex is higher than 2\n",
    "    while nb_vertex > t :\n",
    "        # An inner loop to avoid choosing an edge that has\n",
    "        # a negative value in the adjacency matrix\n",
    "        # This is taking a lot of time when the matrix is high dimensional\n",
    "        while True : \n",
    "            val,i,j = arrete_choice(A, sum_lines)\n",
    "            # print(val, i,j)\n",
    "            if val>0:\n",
    "                break\n",
    "        # realises a contraction on the edge (i,j)\n",
    "        A = contract(A,i,j)\n",
    "        \n",
    "        A = np.delete(A, j, axis=0)\n",
    "        A = np.delete(A, j, axis=1)\n",
    "\n",
    "        \n",
    "        ## Update of the data structures\n",
    "        \n",
    "        # Update the sum_lines list\n",
    "        #sum_lines[i] += sum_lines[j] - val\n",
    "        sum_lines[i] += sum_lines[j]\n",
    "        sum_lines[i] -= 2*val\n",
    "        sum_lines = np.delete(sum_lines,j)\n",
    "        # We have merged two vertex\n",
    "        nb_vertex-=1\n",
    "            \n",
    "    \n",
    "    return A\n",
    "\n",
    "# TEST\n",
    "A = M.copy()\n",
    "A_ = ContractionPartielle(A, 4)\n",
    "A_"
   ]
  },
  {
   "cell_type": "code",
   "execution_count": 208,
   "id": "18af42cf",
   "metadata": {},
   "outputs": [],
   "source": [
    "def KargerStein(G):\n",
    "    m = np.inf\n",
    "    \n",
    "    if G.shape[0]<=6:\n",
    "        return Karger(G)\n",
    "    \n",
    "    else:\n",
    "        t = int(1 + G.shape[0]/2)\n",
    "        \n",
    "        G1 = ContractionPartielle(G,t)\n",
    "        S1,m1 = KargerStein(G1)\n",
    "        \n",
    "        G2 = ContractionPartielle(G,t)\n",
    "        S2,m2 = KargerStein(G2)\n",
    "        \n",
    "        if m1<m2:\n",
    "            return S1,m1\n",
    "        else:\n",
    "            return S2,m2"
   ]
  },
  {
   "cell_type": "code",
   "execution_count": 215,
   "id": "c467543d",
   "metadata": {},
   "outputs": [
    {
     "data": {
      "text/plain": [
       "array([[0, 1, 1, 1, 1, 1, 1, 1, 1, 1],\n",
       "       [1, 0, 1, 1, 1, 1, 1, 1, 1, 1],\n",
       "       [1, 1, 0, 1, 1, 1, 1, 1, 1, 1],\n",
       "       [1, 1, 1, 0, 1, 1, 1, 1, 1, 1],\n",
       "       [1, 1, 1, 1, 0, 1, 1, 1, 1, 1],\n",
       "       [1, 1, 1, 1, 1, 0, 1, 1, 1, 1],\n",
       "       [1, 1, 1, 1, 1, 1, 0, 1, 1, 1],\n",
       "       [1, 1, 1, 1, 1, 1, 1, 0, 1, 1],\n",
       "       [1, 1, 1, 1, 1, 1, 1, 1, 0, 1],\n",
       "       [1, 1, 1, 1, 1, 1, 1, 1, 1, 0]])"
      ]
     },
     "execution_count": 215,
     "metadata": {},
     "output_type": "execute_result"
    }
   ],
   "source": [
    "G = create_graph(10, ty='complete')\n",
    "G"
   ]
  },
  {
   "cell_type": "code",
   "execution_count": 216,
   "id": "092655ed",
   "metadata": {},
   "outputs": [
    {
     "data": {
      "text/plain": [
       "([0], 9)"
      ]
     },
     "execution_count": 216,
     "metadata": {},
     "output_type": "execute_result"
    }
   ],
   "source": [
    "KargerStein(G)"
   ]
  },
  {
   "cell_type": "code",
   "execution_count": null,
   "id": "bcce0222",
   "metadata": {},
   "outputs": [],
   "source": []
  }
 ],
 "metadata": {
  "kernelspec": {
   "display_name": "Python 3 (ipykernel)",
   "language": "python",
   "name": "python3"
  },
  "language_info": {
   "codemirror_mode": {
    "name": "ipython",
    "version": 3
   },
   "file_extension": ".py",
   "mimetype": "text/x-python",
   "name": "python",
   "nbconvert_exporter": "python",
   "pygments_lexer": "ipython3",
   "version": "3.10.0"
  }
 },
 "nbformat": 4,
 "nbformat_minor": 5
}
